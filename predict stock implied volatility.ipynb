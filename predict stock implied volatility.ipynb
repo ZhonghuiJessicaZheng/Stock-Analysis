{
 "cells": [
  {
   "cell_type": "markdown",
   "metadata": {},
   "source": [
    "# Finish the following analytics work"
   ]
  },
  {
   "cell_type": "markdown",
   "metadata": {},
   "source": [
    "#### 1.Determine European options from your Option2017_2_Clean.csv by using Brent or bisection method and write all European options as EuropeanOption2017.csv "
   ]
  },
  {
   "cell_type": "code",
   "execution_count": 80,
   "metadata": {},
   "outputs": [],
   "source": [
    "import numpy as np\n",
    "import pandas as pd\n",
    "from scipy import stats, optimize\n",
    "from math import pi, exp, sqrt,log\n",
    "import warnings; warnings.simplefilter('ignore')"
   ]
  },
  {
   "cell_type": "code",
   "execution_count": 81,
   "metadata": {},
   "outputs": [],
   "source": [
    "option = pd.read_csv('Option2017_2_Clean.csv')"
   ]
  },
  {
   "cell_type": "code",
   "execution_count": 82,
   "metadata": {},
   "outputs": [],
   "source": [
    "option = option.drop(['Unnamed: 0'],axis=1)"
   ]
  },
  {
   "cell_type": "code",
   "execution_count": 83,
   "metadata": {},
   "outputs": [
    {
     "data": {
      "text/plain": [
       "(7174, 20)"
      ]
     },
     "execution_count": 83,
     "metadata": {},
     "output_type": "execute_result"
    }
   ],
   "source": [
    "option.shape"
   ]
  },
  {
   "cell_type": "code",
   "execution_count": 84,
   "metadata": {},
   "outputs": [],
   "source": [
    "def difference(initial_point, S, K, T, r, option_type, mkt_price):\n",
    "    \n",
    "    d1 = (log(S/K) + (r + 0.5*initial_point**2)*T)/(initial_point*sqrt(T))\n",
    "    d2 = d1 - initial_point*sqrt(T)\n",
    "    \n",
    "    if option_type == 'Call':\n",
    "        N_d1 = stats.norm.cdf(d1,0.0,1.0)\n",
    "        N_d2 = stats.norm.cdf(d2,0.0,1.0)\n",
    "        eu_price = (S*N_d1 - K*exp(-r*T)*N_d2)\n",
    "        \n",
    "    if option_type == 'Put':\n",
    "        N_n_d1 = stats.norm.cdf(-d1,0.0,1.0)\n",
    "        N_n_d2 = stats.norm.cdf(-d2,0.0,1.0)\n",
    "        eu_price = (K*exp(-r*T)*(N_n_d2)-S*(N_n_d1))\n",
    "    \n",
    "    difference = eu_price-mkt_price\n",
    "    \n",
    "    return difference"
   ]
  },
  {
   "cell_type": "markdown",
   "metadata": {},
   "source": [
    "To get the tolerance of option price accuracy: set the margin of calculation error is 5 percent of option last price."
   ]
  },
  {
   "cell_type": "code",
   "execution_count": 85,
   "metadata": {},
   "outputs": [],
   "source": [
    "option.loc[:,'Tolerance'] = option.loc[:,'implied volatility']*0.05"
   ]
  },
  {
   "cell_type": "markdown",
   "metadata": {},
   "source": [
    "Assume the range of root is (10**(-10), max of implied volatility):"
   ]
  },
  {
   "cell_type": "code",
   "execution_count": 86,
   "metadata": {},
   "outputs": [],
   "source": [
    "vol_min = -option['implied volatility'].max()\n",
    "vol_max = option['implied volatility'].max()"
   ]
  },
  {
   "cell_type": "code",
   "execution_count": 87,
   "metadata": {},
   "outputs": [
    {
     "data": {
      "text/plain": [
       "1.99964"
      ]
     },
     "execution_count": 87,
     "metadata": {},
     "output_type": "execute_result"
    }
   ],
   "source": [
    "option['implied volatility'].max()"
   ]
  },
  {
   "cell_type": "code",
   "execution_count": 88,
   "metadata": {},
   "outputs": [],
   "source": [
    "r = 0.03"
   ]
  },
  {
   "cell_type": "code",
   "execution_count": 89,
   "metadata": {},
   "outputs": [],
   "source": [
    "for i in range(len(option)):\n",
    "    S = option.loc[i,'Underlaying asset price']\n",
    "    K = option.loc[i,'StrikePrice']\n",
    "    T = option.loc[i,'Expiration time']\n",
    "    mkt_price = option.loc[i,'Last']\n",
    "    option_type = option.loc[i,'Type']\n",
    "    tolerance = option.loc[i,'Tolerance']\n",
    "    \n",
    "    try:\n",
    "        optimize.brentq(difference,vol_min,vol_max,args=(S,K,T,r,option_type,mkt_price))\n",
    "    except:\n",
    "        option.loc[i,'Class'] = 'Others'\n",
    "    else:\n",
    "        option.loc[i,'Cal_Vol'] = optimize.brentq(difference,vol_min,vol_max,args=(S,K,T,r,option_type,mkt_price))\n",
    "        if abs(option.loc[i,'Cal_Vol']-option.loc[i,'implied volatility'])>tolerance:\n",
    "            option.loc[i,'Class'] = 'Others'\n",
    "        else:\n",
    "            option.loc[i,'Class'] = 'European'"
   ]
  },
  {
   "cell_type": "code",
   "execution_count": 90,
   "metadata": {},
   "outputs": [],
   "source": [
    "option[option['Class']=='European'].to_csv('EuropeanOption2017.csv')"
   ]
  },
  {
   "cell_type": "code",
   "execution_count": 91,
   "metadata": {},
   "outputs": [],
   "source": [
    "euro_op = option[option['Class']=='European']"
   ]
  },
  {
   "cell_type": "code",
   "execution_count": 92,
   "metadata": {},
   "outputs": [
    {
     "data": {
      "text/html": [
       "<div>\n",
       "<style scoped>\n",
       "    .dataframe tbody tr th:only-of-type {\n",
       "        vertical-align: middle;\n",
       "    }\n",
       "\n",
       "    .dataframe tbody tr th {\n",
       "        vertical-align: top;\n",
       "    }\n",
       "\n",
       "    .dataframe thead th {\n",
       "        text-align: right;\n",
       "    }\n",
       "</style>\n",
       "<table border=\"1\" class=\"dataframe\">\n",
       "  <thead>\n",
       "    <tr style=\"text-align: right;\">\n",
       "      <th></th>\n",
       "      <th>ExpDate</th>\n",
       "      <th>StrikePrice</th>\n",
       "      <th>Ticker</th>\n",
       "      <th>Type</th>\n",
       "      <th>Last</th>\n",
       "      <th>Chg</th>\n",
       "      <th>Bid</th>\n",
       "      <th>Ask</th>\n",
       "      <th>Vol</th>\n",
       "      <th>Open Int</th>\n",
       "      <th>...</th>\n",
       "      <th>Theta</th>\n",
       "      <th>Vega</th>\n",
       "      <th>implied volatility</th>\n",
       "      <th>currentDate</th>\n",
       "      <th>Implied volatility</th>\n",
       "      <th>Underlaying asset price</th>\n",
       "      <th>Expiration time</th>\n",
       "      <th>Tolerance</th>\n",
       "      <th>Cal_Vol</th>\n",
       "      <th>Class</th>\n",
       "    </tr>\n",
       "  </thead>\n",
       "  <tbody>\n",
       "    <tr>\n",
       "      <th>0</th>\n",
       "      <td>2017-03-17</td>\n",
       "      <td>22.5</td>\n",
       "      <td>ARR</td>\n",
       "      <td>Put</td>\n",
       "      <td>0.95</td>\n",
       "      <td>-0.35</td>\n",
       "      <td>0.65</td>\n",
       "      <td>1.25</td>\n",
       "      <td>1.0</td>\n",
       "      <td>9.0</td>\n",
       "      <td>...</td>\n",
       "      <td>-0.00832</td>\n",
       "      <td>0.02372</td>\n",
       "      <td>0.27590</td>\n",
       "      <td>2/17/17</td>\n",
       "      <td>0.27590</td>\n",
       "      <td>21.709999</td>\n",
       "      <td>0.076660</td>\n",
       "      <td>0.013795</td>\n",
       "      <td>0.203360</td>\n",
       "      <td>Others</td>\n",
       "    </tr>\n",
       "    <tr>\n",
       "      <th>1</th>\n",
       "      <td>2017-04-21</td>\n",
       "      <td>22.0</td>\n",
       "      <td>ARR</td>\n",
       "      <td>Call</td>\n",
       "      <td>0.30</td>\n",
       "      <td>-0.20</td>\n",
       "      <td>0.10</td>\n",
       "      <td>0.40</td>\n",
       "      <td>40.0</td>\n",
       "      <td>659.0</td>\n",
       "      <td>...</td>\n",
       "      <td>-0.00408</td>\n",
       "      <td>0.03730</td>\n",
       "      <td>0.10719</td>\n",
       "      <td>2/17/17</td>\n",
       "      <td>0.10719</td>\n",
       "      <td>21.709999</td>\n",
       "      <td>0.172485</td>\n",
       "      <td>0.005360</td>\n",
       "      <td>0.105710</td>\n",
       "      <td>European</td>\n",
       "    </tr>\n",
       "    <tr>\n",
       "      <th>2</th>\n",
       "      <td>2017-04-21</td>\n",
       "      <td>20.0</td>\n",
       "      <td>ARR</td>\n",
       "      <td>Put</td>\n",
       "      <td>0.15</td>\n",
       "      <td>-0.05</td>\n",
       "      <td>0.05</td>\n",
       "      <td>0.20</td>\n",
       "      <td>3.0</td>\n",
       "      <td>251.0</td>\n",
       "      <td>...</td>\n",
       "      <td>-0.00275</td>\n",
       "      <td>0.01999</td>\n",
       "      <td>0.25595</td>\n",
       "      <td>2/17/17</td>\n",
       "      <td>0.25595</td>\n",
       "      <td>21.709999</td>\n",
       "      <td>0.172485</td>\n",
       "      <td>0.012798</td>\n",
       "      <td>0.209552</td>\n",
       "      <td>Others</td>\n",
       "    </tr>\n",
       "    <tr>\n",
       "      <th>3</th>\n",
       "      <td>2017-04-21</td>\n",
       "      <td>22.0</td>\n",
       "      <td>ARR</td>\n",
       "      <td>Put</td>\n",
       "      <td>0.83</td>\n",
       "      <td>-0.02</td>\n",
       "      <td>0.65</td>\n",
       "      <td>1.00</td>\n",
       "      <td>1.0</td>\n",
       "      <td>166.0</td>\n",
       "      <td>...</td>\n",
       "      <td>-0.00457</td>\n",
       "      <td>0.03551</td>\n",
       "      <td>0.21858</td>\n",
       "      <td>2/17/17</td>\n",
       "      <td>0.21858</td>\n",
       "      <td>21.709999</td>\n",
       "      <td>0.172485</td>\n",
       "      <td>0.010929</td>\n",
       "      <td>0.204517</td>\n",
       "      <td>Others</td>\n",
       "    </tr>\n",
       "    <tr>\n",
       "      <th>4</th>\n",
       "      <td>2017-04-21</td>\n",
       "      <td>23.0</td>\n",
       "      <td>ARR</td>\n",
       "      <td>Put</td>\n",
       "      <td>1.55</td>\n",
       "      <td>0.05</td>\n",
       "      <td>1.40</td>\n",
       "      <td>1.85</td>\n",
       "      <td>2.0</td>\n",
       "      <td>145.0</td>\n",
       "      <td>...</td>\n",
       "      <td>-0.00590</td>\n",
       "      <td>0.03575</td>\n",
       "      <td>0.33344</td>\n",
       "      <td>2/17/17</td>\n",
       "      <td>0.33344</td>\n",
       "      <td>21.709999</td>\n",
       "      <td>0.172485</td>\n",
       "      <td>0.016672</td>\n",
       "      <td>0.226779</td>\n",
       "      <td>Others</td>\n",
       "    </tr>\n",
       "  </tbody>\n",
       "</table>\n",
       "<p>5 rows × 23 columns</p>\n",
       "</div>"
      ],
      "text/plain": [
       "      ExpDate  StrikePrice Ticker  Type  Last   Chg   Bid   Ask   Vol  \\\n",
       "0  2017-03-17         22.5    ARR   Put  0.95 -0.35  0.65  1.25   1.0   \n",
       "1  2017-04-21         22.0    ARR  Call  0.30 -0.20  0.10  0.40  40.0   \n",
       "2  2017-04-21         20.0    ARR   Put  0.15 -0.05  0.05  0.20   3.0   \n",
       "3  2017-04-21         22.0    ARR   Put  0.83 -0.02  0.65  1.00   1.0   \n",
       "4  2017-04-21         23.0    ARR   Put  1.55  0.05  1.40  1.85   2.0   \n",
       "\n",
       "   Open Int    ...       Theta     Vega  implied volatility  currentDate  \\\n",
       "0       9.0    ...    -0.00832  0.02372             0.27590      2/17/17   \n",
       "1     659.0    ...    -0.00408  0.03730             0.10719      2/17/17   \n",
       "2     251.0    ...    -0.00275  0.01999             0.25595      2/17/17   \n",
       "3     166.0    ...    -0.00457  0.03551             0.21858      2/17/17   \n",
       "4     145.0    ...    -0.00590  0.03575             0.33344      2/17/17   \n",
       "\n",
       "   Implied volatility  Underlaying asset price Expiration time  Tolerance  \\\n",
       "0             0.27590                21.709999        0.076660   0.013795   \n",
       "1             0.10719                21.709999        0.172485   0.005360   \n",
       "2             0.25595                21.709999        0.172485   0.012798   \n",
       "3             0.21858                21.709999        0.172485   0.010929   \n",
       "4             0.33344                21.709999        0.172485   0.016672   \n",
       "\n",
       "    Cal_Vol     Class  \n",
       "0  0.203360    Others  \n",
       "1  0.105710  European  \n",
       "2  0.209552    Others  \n",
       "3  0.204517    Others  \n",
       "4  0.226779    Others  \n",
       "\n",
       "[5 rows x 23 columns]"
      ]
     },
     "execution_count": 92,
     "metadata": {},
     "output_type": "execute_result"
    }
   ],
   "source": [
    "option.head()"
   ]
  },
  {
   "cell_type": "markdown",
   "metadata": {},
   "source": [
    "#### 1.(a) Visualize and generate eps/tiﬀ ﬁles: The implied volatility of all call/put options (histogram) "
   ]
  },
  {
   "cell_type": "code",
   "execution_count": 93,
   "metadata": {},
   "outputs": [],
   "source": [
    "import matplotlib.pyplot as plt\n",
    "import seaborn as sns"
   ]
  },
  {
   "cell_type": "code",
   "execution_count": 94,
   "metadata": {
    "scrolled": false
   },
   "outputs": [
    {
     "data": {
      "image/png": "[encoded data removed]",
      "text/plain": [
       "<matplotlib.figure.Figure at 0x15d4efadd30>"
      ]
     },
     "metadata": {},
     "output_type": "display_data"
    }
   ],
   "source": [
    "fig = plt.figure(figsize=(17,7))\n",
    "\n",
    "sns.distplot(option[option.Type == 'Call']['Implied volatility'], color=\"skyblue\", label=\"Call Option\")\n",
    "sns.distplot(option[option.Type == 'Put']['Implied volatility'], color=\"red\", label=\"Put Option\")\n",
    "plt.ylabel('Density')\n",
    "plt.xlabel('Implied Volatility')\n",
    "plt.title('Put & Call Option Comparison')\n",
    "plt.legend()\n",
    "plt.grid()"
   ]
  },
  {
   "cell_type": "markdown",
   "metadata": {},
   "source": [
    "#### The time to maturity of all data:"
   ]
  },
  {
   "cell_type": "code",
   "execution_count": 95,
   "metadata": {},
   "outputs": [
    {
     "data": {
      "image/png": "[encoded data removed]",
      "text/plain": [
       "<matplotlib.figure.Figure at 0x15d4efb99e8>"
      ]
     },
     "metadata": {},
     "output_type": "display_data"
    }
   ],
   "source": [
    "plt.figure(figsize=(17,7))\n",
    "plt.hist(euro_op['Expiration time'])\n",
    "plt.xlabel('Count')\n",
    "plt.ylabel('Time to Maturity')\n",
    "plt.title('European Option Time to Maturity Distribution')\n",
    "plt.grid()"
   ]
  },
  {
   "cell_type": "markdown",
   "metadata": {},
   "source": [
    "#### The histogram of all underlying prices and option prices:"
   ]
  },
  {
   "cell_type": "code",
   "execution_count": 96,
   "metadata": {},
   "outputs": [
    {
     "data": {
      "text/plain": [
       "Index(['ExpDate', 'StrikePrice', 'Ticker', 'Type', 'Last', 'Chg', 'Bid', 'Ask',\n",
       "       'Vol', 'Open Int', 'Delta', 'Gamma', 'Rho', 'Theta', 'Vega',\n",
       "       'implied volatility', 'currentDate', 'Implied volatility',\n",
       "       'Underlaying asset price', 'Expiration time', 'Tolerance', 'Cal_Vol',\n",
       "       'Class'],\n",
       "      dtype='object')"
      ]
     },
     "execution_count": 96,
     "metadata": {},
     "output_type": "execute_result"
    }
   ],
   "source": [
    "euro_op.columns"
   ]
  },
  {
   "cell_type": "code",
   "execution_count": 97,
   "metadata": {},
   "outputs": [
    {
     "data": {
      "image/png": "[encoded data removed]",
      "text/plain": [
       "<matplotlib.figure.Figure at 0x15d4f6d90f0>"
      ]
     },
     "metadata": {},
     "output_type": "display_data"
    }
   ],
   "source": [
    "sns.jointplot(data=euro_op,x='Underlaying asset price',y='Last',kind='reg',size=8)\n",
    "plt.grid()"
   ]
  },
  {
   "cell_type": "code",
   "execution_count": null,
   "metadata": {},
   "outputs": [],
   "source": []
  },
  {
   "cell_type": "markdown",
   "metadata": {},
   "source": [
    "#### 2. Apply the following methods to estimate the implied volatility for the put and call option data you get by using tolerance 10−12 in iteration and interest rate 0.03. "
   ]
  },
  {
   "cell_type": "code",
   "execution_count": 98,
   "metadata": {},
   "outputs": [
    {
     "data": {
      "text/plain": [
       "(1972, 23)"
      ]
     },
     "execution_count": 98,
     "metadata": {},
     "output_type": "execute_result"
    }
   ],
   "source": [
    "euro_op.shape"
   ]
  },
  {
   "cell_type": "markdown",
   "metadata": {},
   "source": [
    "#### a. the classic Bisection method "
   ]
  },
  {
   "cell_type": "code",
   "execution_count": 99,
   "metadata": {},
   "outputs": [],
   "source": [
    "def bsm_value(S, K, T, r, sigma_est, option_type):\n",
    "    if option_type == 'Call':\n",
    "        d1 = (np.log(S/K) + (r + 0.5 * sigma_est ** 2) * T)/ (sigma_est * np.sqrt(T))\n",
    "        d2 = d1 - sigma_est * np.sqrt(T)\n",
    "        N_d1 = stats.norm.cdf(d1,0.0,1.0)\n",
    "        N_d2 = stats.norm.cdf(d2,0.0,1.0)\n",
    "        bs_price = (S * N_d1 - K * np.exp( -r*T ) * N_d2)\n",
    "            \n",
    "    if option_type == 'Put':\n",
    "        d1 = (np.log(S/K) + (r + 0.5 * sigma_est ** 2) * T)/ (sigma_est * np.sqrt(T))\n",
    "        d2 = d1 - sigma_est * np.sqrt(T)\n",
    "        N_n_d1 = stats.norm.cdf(-d1,0.0,1.0)\n",
    "        N_n_d2 = stats.norm.cdf(-d2,0.0,1.0)\n",
    "        bs_price = K * np.exp( -r*T ) * N_n_d2 - S * N_n_d1  \n",
    "    return bs_price\n",
    "\n",
    "def bisection(fs,fb,small,big,S,K,T,r,option_type,market_price,eps): \n",
    "    count=0\n",
    "    if fs*fb==0:\n",
    "        if fs==0:\n",
    "            return small,count\n",
    "        else:\n",
    "            return big,count\n",
    "    if fs*fb>0:\n",
    "        return np.NaN,count\n",
    "    while (fs*fb<0):\n",
    "        count=count+1\n",
    "        middle=(small+big)/2.0\n",
    "        fm= (bsm_value(S,K,T,r,middle,option_type)- market_price)\n",
    "        if (fs*fm<0):\n",
    "            big=middle\n",
    "            fb=(bsm_value(S,K,T,r,big,option_type)- market_price)\n",
    "        if (fm*fb<0):\n",
    "            small=middle\n",
    "            fs=(bsm_value(S,K,T,r,small,option_type)- market_price)\n",
    "        if ( abs(fm) < eps):\n",
    "            return middle,count"
   ]
  },
  {
   "cell_type": "code",
   "execution_count": 100,
   "metadata": {},
   "outputs": [
    {
     "name": "stdout",
     "output_type": "stream",
     "text": [
      "Running time:  54.565850126103896\n"
     ]
    }
   ],
   "source": [
    "import time\n",
    "r = 0.03\n",
    "eps = 10**(-12)\n",
    "small = 0.000000001\n",
    "big = 4\n",
    "\n",
    "est_implied_volatility_list_bisection = []\n",
    "count_list_bisection = []\n",
    "\n",
    "start = time.clock()\n",
    "for i in range(len(euro_op)):\n",
    "    S = euro_op.iloc[i]['Underlaying asset price']\n",
    "    K = euro_op.iloc[i]['StrikePrice']\n",
    "    T = euro_op.iloc[i]['Expiration time']\n",
    "    market_price = euro_op.iloc[i]['Last']\n",
    "    option_type = euro_op.iloc[i]['Type']\n",
    "    \n",
    "    fs = (bsm_value(S, K, T, r, small, option_type) - market_price)\n",
    "    fb = (bsm_value(S, K, T, r, big, option_type) - market_price)\n",
    "    est_implied_volatility_bisection, count_bisection = bisection(fs,fb,small,big,S,K,T,r,option_type,market_price,eps)\n",
    "    est_implied_volatility_list_bisection.append(est_implied_volatility_bisection)\n",
    "    count_list_bisection.append(count_bisection)\n",
    "    \n",
    "end = time.clock()\n",
    "Running_Time_Bisection = end - start\n",
    "print('Running time: ',Running_Time_Bisection)"
   ]
  },
  {
   "cell_type": "code",
   "execution_count": 101,
   "metadata": {},
   "outputs": [],
   "source": [
    "euro_op['est_implied_volatility_bisection'] = est_implied_volatility_list_bisection\n",
    "euro_op['count_bisection'] = count_list_bisection\n",
    "euro_op.head()\n",
    "\n",
    "#Calculate the MSE and efficiency\n",
    "MSE_bisection = sum((euro_op['est_implied_volatility_bisection'] - euro_op['Implied volatility']) ** 2)/euro_op.shape[0]\n",
    "E_bisection = euro_op['count_bisection'].mean()\n",
    "ratio_bisection = 1/((1+MSE_bisection)*log((1+E_bisection),2))"
   ]
  },
  {
   "cell_type": "code",
   "execution_count": null,
   "metadata": {},
   "outputs": [],
   "source": []
  },
  {
   "cell_type": "markdown",
   "metadata": {},
   "source": [
    "#### b. Brent method"
   ]
  },
  {
   "cell_type": "code",
   "execution_count": 102,
   "metadata": {},
   "outputs": [
    {
     "name": "stdout",
     "output_type": "stream",
     "text": [
      "Running time:  8.207845695087826\n"
     ]
    }
   ],
   "source": [
    "est_implied_volatility_list_brent = []\n",
    "count_list_brent = []\n",
    "\n",
    "start = time.clock()\n",
    "for i in range(len(euro_op)):\n",
    "    S = euro_op.iloc[i]['Underlaying asset price']\n",
    "    K = euro_op.iloc[i]['StrikePrice']\n",
    "    T = euro_op.iloc[i]['Expiration time']\n",
    "    mkt_price = euro_op.iloc[i]['Last']\n",
    "    option_type = euro_op.iloc[i]['Type']\n",
    "    a,b = optimize.brentq(difference,vol_min,vol_max,args=(S,K,T,r,option_type,mkt_price),full_output = True)\n",
    "    est_implied_volatility_list_brent.append(a)\n",
    "    count_list_brent.append(b.iterations)\n",
    "    \n",
    "end = time.clock()\n",
    "Running_Time_Brent = end - start\n",
    "print('Running time: ',Running_Time_Brent)"
   ]
  },
  {
   "cell_type": "code",
   "execution_count": 103,
   "metadata": {},
   "outputs": [],
   "source": [
    "euro_op['est_implied_volatility_brent'] = est_implied_volatility_list_brent\n",
    "euro_op['count_brent'] = count_list_brent\n",
    "euro_op.head()\n",
    "\n",
    "#Calculate the MSE and efficiency\n",
    "MSE_brent = sum((euro_op['est_implied_volatility_brent'] - euro_op['Implied volatility']) ** 2)/euro_op.shape[0]\n",
    "E_brent = euro_op['count_brent'].mean()\n",
    "ratio_brent = 1/((1+MSE_brent)*log((1+E_brent),2))"
   ]
  },
  {
   "cell_type": "code",
   "execution_count": null,
   "metadata": {},
   "outputs": [],
   "source": []
  },
  {
   "cell_type": "markdown",
   "metadata": {},
   "source": [
    "#### c. Muller Bisection Method "
   ]
  },
  {
   "cell_type": "code",
   "execution_count": 104,
   "metadata": {},
   "outputs": [],
   "source": [
    "import sympy\n",
    "x = sympy.symbols('x', interger = True)\n",
    "\n",
    "def f(x):\n",
    "    return (bsm_value(S, K, T, r, x, option_type)- mkt_price)"
   ]
  },
  {
   "cell_type": "code",
   "execution_count": 105,
   "metadata": {},
   "outputs": [],
   "source": [
    "def Muller_Bisection(a, b, fa, fb, S, K, T, r, option_type, mkt_price, eps):\n",
    "    count = 0\n",
    "    # Select three points (a,f(a)), (b,f(b)), (c,f(c))\n",
    "    c = (a+b)/2      \n",
    "    \n",
    "    if fa*fb == 0:\n",
    "        if fa == 0:\n",
    "            return a, count\n",
    "        if fb == 0:\n",
    "            return b, count\n",
    "    if fa*fb > 0:\n",
    "        return np.NaN, count\n",
    "    while fa*fb < 0:\n",
    "        count = count + 1\n",
    "        fa = f(a)\n",
    "        fb = f(b)\n",
    "        \n",
    "        # Create subinterval [a2, b2]\n",
    "        if fa*f(c) < 0:\n",
    "            a2 = a\n",
    "            b2 = c\n",
    "        if fb*f(c) < 0:\n",
    "            a2 = c\n",
    "            b2 = b\n",
    "\n",
    "        # Determine the coefficients of the quadratic function A, B,C\n",
    "        C = f(c)\n",
    "        B = ((a-c)**2*(fb-f(c))-(b-c)**2*(fa-f(c)))/((a-c)*(b-c)*(a-b))\n",
    "        A = ((b-c)*(fa-f(c))-(a-c)*(fb-f(c)))/((a-c)*(b-c)*(a-b))\n",
    "        \n",
    "        # Iteration : get the next approximation\n",
    "        d = c - 2*C/(B + np.sign(B)*np.sqrt(B**2-4*A*C))\n",
    "        \n",
    "        if fa*f(c)<0:\n",
    "            c = b\n",
    "        if f(c)*fb<0:\n",
    "            c = a   \n",
    "            \n",
    "        \n",
    "        if d>=a2 and d<=b2:\n",
    "            d = d\n",
    "        else:\n",
    "            d = (a2+b2)/2\n",
    "            \n",
    "        c = d \n",
    "        a = a2\n",
    "        b = b2\n",
    "        \n",
    "        # until finding a sufficiently accurate solution\n",
    "        if (f(d)==0 or abs(f(d))<eps):\n",
    "            return d, count"
   ]
  },
  {
   "cell_type": "code",
   "execution_count": 106,
   "metadata": {},
   "outputs": [
    {
     "name": "stdout",
     "output_type": "stream",
     "text": [
      "Running time:  51.44804341573786\n"
     ]
    }
   ],
   "source": [
    "count_muller = []\n",
    "ImpVol_Muller = []\n",
    "start = time.clock()\n",
    "\n",
    "for i in range(len(euro_op)): \n",
    "    a = 0.000000001\n",
    "    b = 4\n",
    "    eps = 10**(-12)\n",
    "    r = 0.03\n",
    "    fa = f(a)\n",
    "    fb = f(b)\n",
    "    S = euro_op.iloc[i]['Underlaying asset price']\n",
    "    K = euro_op.iloc[i]['StrikePrice']\n",
    "    T = euro_op.iloc[i]['Expiration time']\n",
    "    mkt_price = euro_op.iloc[i]['Last']\n",
    "    option_type = euro_op.iloc[i]['Type']\n",
    "    est,count = Muller_Bisection(a, b, fa, fb, S, K, T, r, option_type, mkt_price, eps)\n",
    "    ImpVol_Muller.append(est)\n",
    "    count_muller.append(count)\n",
    "\n",
    "end = time.clock()\n",
    "Running_Time_Muller_Bisection = end - start\n",
    "print('Running time: ',Running_Time_Muller_Bisection)"
   ]
  },
  {
   "cell_type": "code",
   "execution_count": 107,
   "metadata": {},
   "outputs": [],
   "source": [
    "euro_op['ImpVol_Muller'] = ImpVol_Muller\n",
    "euro_op['count_muller'] = count_muller"
   ]
  },
  {
   "cell_type": "code",
   "execution_count": 108,
   "metadata": {},
   "outputs": [
    {
     "name": "stdout",
     "output_type": "stream",
     "text": [
      "MSE for Muller Bisection method is 9.31895656929761e-05\n"
     ]
    }
   ],
   "source": [
    "# Calculate MSE\n",
    "mse_muller = (euro_op['ImpVol_Muller']-euro_op['implied volatility'])**2\n",
    "MSE_Muller = mse_muller.mean()\n",
    "print(\"MSE for Muller Bisection method is \" + str(MSE_Muller))"
   ]
  },
  {
   "cell_type": "code",
   "execution_count": 109,
   "metadata": {},
   "outputs": [
    {
     "name": "stdout",
     "output_type": "stream",
     "text": [
      "The average iteration number to converge for Muller Bisection method is 6.181034482758621\n"
     ]
    }
   ],
   "source": [
    "# Calculate average iteration number\n",
    "Et_Muller = euro_op['count_muller'].mean()\n",
    "print(\"The average iteration number to converge for Muller Bisection method is \" + str(Et_Muller))"
   ]
  },
  {
   "cell_type": "code",
   "execution_count": 110,
   "metadata": {},
   "outputs": [
    {
     "data": {
      "text/plain": [
       "0.35156098041835215"
      ]
     },
     "execution_count": 110,
     "metadata": {},
     "output_type": "execute_result"
    }
   ],
   "source": [
    "# Calculate ratio\n",
    "ratio_Muller = 1/((1+MSE_Muller)*np.log2(1+Et_Muller))\n",
    "ratio_Muller"
   ]
  },
  {
   "cell_type": "code",
   "execution_count": null,
   "metadata": {},
   "outputs": [],
   "source": []
  },
  {
   "cell_type": "markdown",
   "metadata": {},
   "source": [
    "####  d. Newton method "
   ]
  },
  {
   "cell_type": "code",
   "execution_count": 111,
   "metadata": {},
   "outputs": [],
   "source": [
    "def bsm_value(S, K, T, r, sigma_est, option_type):\n",
    "    if option_type == 'Call':\n",
    "        d1 = (np.log(S/K) + (r + 0.5 * sigma_est ** 2) * T)/ (sigma_est * np.sqrt(T))\n",
    "        d2 = d1 - sigma_est * np.sqrt(T)\n",
    "            \n",
    "        N_d1 = stats.norm.cdf(d1,0.0,1.0)\n",
    "        N_d2 = stats.norm.cdf(d2,0.0,1.0)\n",
    "            \n",
    "        bs_price = (S * N_d1 - K * np.exp( -r*T ) * N_d2)\n",
    "            \n",
    "    if option_type == 'Put':\n",
    "        d1 = (np.log(S/K) + (r + 0.5 * sigma_est ** 2) * T)/ (sigma_est * np.sqrt(T))\n",
    "        d2 = d1 - sigma_est * np.sqrt(T)\n",
    "        \n",
    "        N_n_d1 = stats.norm.cdf(-d1,0.0,1.0)\n",
    "        N_n_d2 = stats.norm.cdf(-d2,0.0,1.0)\n",
    "        \n",
    "        bs_price = K * np.exp( -r*T ) * N_n_d2 - S * N_n_d1  \n",
    "    return bs_price\n",
    "\n",
    "def bsm_vega(S,K,T,r,sigma):\n",
    "    d1= (np.log(S/K)+ (r+0.5*sigma**2)*T)/ (sigma*np.sqrt(T))\n",
    "    vega= S*stats.norm.pdf(d1,0.0,1.0)* np.sqrt(T)\n",
    "    return vega\n",
    "\n",
    "eps = 10**(-12)\n",
    "def bsm_call_imp_vol(S, K, T, r, C_star, sigma_est, option_type):\n",
    "    count = 0\n",
    "    if abs(bsm_value(S, K, T, r, sigma_est, option_type) - C_star) < eps:\n",
    "        return sigma_est, count\n",
    "    else:\n",
    "        while abs(bsm_value(S,K,T,r,sigma_est,option_type)- C_star) > eps:\n",
    "            count = count + 1\n",
    "            f1 = bsm_value(S, K, T, r, sigma_est, option_type) - C_star\n",
    "            f_vega = bsm_vega(S,K,T,r,sigma_est)\n",
    "            sigma_before = sigma_est\n",
    "            sigma_est = sigma_est-(f1/f_vega)\n",
    "            if (abs(bsm_value(S,K,T,r,sigma_est,option_type)-C_star) < eps or abs(sigma_est-sigma_before)< eps):\n",
    "                return sigma_est, count"
   ]
  },
  {
   "cell_type": "code",
   "execution_count": 112,
   "metadata": {},
   "outputs": [
    {
     "name": "stdout",
     "output_type": "stream",
     "text": [
      "Running time:  12.097480768379683\n"
     ]
    }
   ],
   "source": [
    "sigma_est = 0.3\n",
    "r = 0.03\n",
    "est_implied_volatility_list_newton = []\n",
    "count_list_newton = []\n",
    "\n",
    "start = time.clock()\n",
    "for i in range(len(euro_op)):\n",
    "    S = euro_op.iloc[i]['Underlaying asset price']\n",
    "    K = euro_op.iloc[i]['StrikePrice']\n",
    "    T = euro_op.iloc[i]['Expiration time']\n",
    "    mkt_price = euro_op.iloc[i]['Last']\n",
    "    option_type = euro_op.iloc[i]['Type']\n",
    "    \n",
    "    est_implied_volatility_newton, count_newton = bsm_call_imp_vol(S, K, T, r, mkt_price, sigma_est, option_type)\n",
    "    est_implied_volatility_list_newton.append(est_implied_volatility_newton)\n",
    "    count_list_newton.append(count_newton)\n",
    "\n",
    "end = time.clock()\n",
    "Running_Time_Newton = end - start\n",
    "print('Running time: ',Running_Time_Newton)"
   ]
  },
  {
   "cell_type": "code",
   "execution_count": 113,
   "metadata": {},
   "outputs": [],
   "source": [
    "euro_op['est_implied_volatility_newton'] = est_implied_volatility_list_newton\n",
    "euro_op['count_newton'] = count_list_newton\n",
    "euro_op.head()\n",
    "\n",
    "#Calculate the MSE and efficiency\n",
    "MSE_newton = sum((euro_op['est_implied_volatility_newton'] - euro_op['Implied volatility']) ** 2)/euro_op.shape[0]\n",
    "E_newton = euro_op['count_newton'].mean()\n",
    "ratio_newton = 1/((1+MSE_newton)*log((1+E_newton),2))"
   ]
  },
  {
   "cell_type": "code",
   "execution_count": null,
   "metadata": {},
   "outputs": [],
   "source": []
  },
  {
   "cell_type": "markdown",
   "metadata": {},
   "source": [
    "#### e. New newton: use brent as the ﬁll-in method to compute initial points "
   ]
  },
  {
   "cell_type": "code",
   "execution_count": 114,
   "metadata": {},
   "outputs": [
    {
     "name": "stdout",
     "output_type": "stream",
     "text": [
      "Running time:  9.540771587769996\n"
     ]
    }
   ],
   "source": [
    "#New Newton\n",
    "\n",
    "r = 0.03\n",
    "est_implied_volatility_list_new_newton = []\n",
    "count_list_new_newton = []\n",
    "\n",
    "start = time.clock()\n",
    "for i in range(len(euro_op)):\n",
    "    S = euro_op.iloc[i]['Underlaying asset price']\n",
    "    K = euro_op.iloc[i]['StrikePrice']\n",
    "    T = euro_op.iloc[i]['Expiration time']\n",
    "    mkt_price = euro_op.iloc[i]['Last']\n",
    "    option_type = euro_op.iloc[i]['Type']\n",
    "    #brent_volitility = euro_op.iloc[i]['brent_implied_volatility']\n",
    "    initial_point = optimize.brentq(difference,vol_min,vol_max,args=(S,K,T,r,option_type,mkt_price))\n",
    "    \n",
    "    est_implied_volatility_new_newton, count_new_newton = bsm_call_imp_vol(S, K, T, r, mkt_price, initial_point, option_type)\n",
    "    est_implied_volatility_list_new_newton.append(est_implied_volatility_new_newton)\n",
    "    count_list_new_newton.append(count_new_newton + 3)\n",
    "    \n",
    "end = time.clock()\n",
    "Running_Time_New_Newton = end - start\n",
    "print('Running time: ',Running_Time_New_Newton)"
   ]
  },
  {
   "cell_type": "code",
   "execution_count": 115,
   "metadata": {},
   "outputs": [],
   "source": [
    "euro_op['est_implied_volatility_new_newton'] = est_implied_volatility_list_new_newton\n",
    "euro_op['count_new_newton'] = count_list_new_newton\n",
    "euro_op.head()\n",
    "\n",
    "#Calculate the MSE and efficiency\n",
    "MSE_new_newton = sum((euro_op['est_implied_volatility_new_newton'] - euro_op['Implied volatility']) ** 2)/euro_op.shape[0]\n",
    "E_new_newton = euro_op['count_new_newton'].mean()\n",
    "ratio_new_newton = 1/((1+MSE_new_newton)*log((1+E_new_newton),2))"
   ]
  },
  {
   "cell_type": "code",
   "execution_count": 116,
   "metadata": {},
   "outputs": [
    {
     "data": {
      "text/plain": [
       "0.48780860123681496"
      ]
     },
     "execution_count": 116,
     "metadata": {},
     "output_type": "execute_result"
    }
   ],
   "source": [
    "ratio_new_newton"
   ]
  },
  {
   "cell_type": "markdown",
   "metadata": {},
   "source": [
    "#### f. New Halley"
   ]
  },
  {
   "cell_type": "code",
   "execution_count": 117,
   "metadata": {},
   "outputs": [],
   "source": [
    "def bsm_vega(S,K,T,r,sigma):\n",
    "    d1= (np.log(S/K)+ (r+0.5*sigma**2)*T)/ (sigma*np.sqrt(T))\n",
    "    vega= S*stats.norm.pdf(d1,0.0,1.0)* np.sqrt(T)\n",
    "    return vega"
   ]
  },
  {
   "cell_type": "code",
   "execution_count": 118,
   "metadata": {},
   "outputs": [],
   "source": [
    "# Define Vomma\n",
    "def bsm_vomma(S,K,T,r,sigma,vega):\n",
    "    d1= (np.log(S/K)+ (r+0.5*sigma**2)*T)/ (sigma*np.sqrt(T))\n",
    "    d2 = d1 - sigma * np.sqrt(T)\n",
    "    vomma= vega*d1*d2/sigma\n",
    "    return vega"
   ]
  },
  {
   "cell_type": "code",
   "execution_count": 119,
   "metadata": {},
   "outputs": [],
   "source": [
    "def new_halley(S,K,T,r,x,option_type,market_price):\n",
    "    count=0\n",
    "    while abs(difference(x, S, K, T, r, option_type, mkt_price)) > error:\n",
    "        count=count+1\n",
    "        vega = bsm_vega(S,K,T,r,x)\n",
    "        vomma = bsm_vomma(S,K,T,r,x,vega)\n",
    "        x=x-(2.0*difference(x, S, K, T, r, option_type, mkt_price)*vega)/(2.0*vega**2-difference(x, S, K, T, r, option_type, mkt_price)*vomma)\n",
    "    return x,count"
   ]
  },
  {
   "cell_type": "code",
   "execution_count": 120,
   "metadata": {},
   "outputs": [],
   "source": [
    "euro_op = pd.read_csv('EuropeanOption2017.csv')"
   ]
  },
  {
   "cell_type": "code",
   "execution_count": 121,
   "metadata": {},
   "outputs": [],
   "source": [
    "def difference(x, S, K, T, r, option_type, mkt_price):\n",
    "    \n",
    "    d1 = (log(S/K) + (r + 0.5*x**2)*T)/(x*sqrt(T))\n",
    "    d2 = d1 - x*sqrt(T)\n",
    "    \n",
    "    if option_type == 'Call':\n",
    "        N_d1 = stats.norm.cdf(d1,0.0,1.0)\n",
    "        N_d2 = stats.norm.cdf(d2,0.0,1.0)\n",
    "        eu_price = (S*N_d1 - K*exp(-r*T)*N_d2)\n",
    "        \n",
    "    if option_type == 'Put':\n",
    "        N_n_d1 = stats.norm.cdf(-d1,0.0,1.0)\n",
    "        N_n_d2 = stats.norm.cdf(-d2,0.0,1.0)\n",
    "        eu_price = (K*exp(-r*T)*(N_n_d2)-S*(N_n_d1))\n",
    "    \n",
    "    difference = eu_price-mkt_price\n",
    "    \n",
    "    return difference"
   ]
  },
  {
   "cell_type": "code",
   "execution_count": 122,
   "metadata": {},
   "outputs": [],
   "source": [
    "import time"
   ]
  },
  {
   "cell_type": "code",
   "execution_count": 123,
   "metadata": {},
   "outputs": [
    {
     "name": "stdout",
     "output_type": "stream",
     "text": [
      "Running time:  9.235969371630063\n"
     ]
    }
   ],
   "source": [
    "list_new_halley = []\n",
    "iter_new_halley = []\n",
    "start = time.clock()\n",
    "for i in range(len(euro_op)):\n",
    "    error = pow(10,-12)\n",
    "    r = 0.03\n",
    "    S = euro_op.iloc[i]['Underlaying asset price']\n",
    "    K = euro_op.iloc[i]['StrikePrice']\n",
    "    T = euro_op.iloc[i]['Expiration time']\n",
    "    option_type = euro_op.iloc[i]['Type']\n",
    "    mkt_price = euro_op.iloc[i]['Last']\n",
    "    initial_point = optimize.brentq(difference,-1,2,args=(S,K,T,r,option_type,mkt_price))\n",
    "    \n",
    "    new_value,new_count = (new_halley(S,K,T,r,initial_point,option_type,mkt_price))\n",
    "    \n",
    "    list_new_halley.append(new_value)\n",
    "    iter_new_halley.append(new_count+3)\n",
    "\n",
    "end = time.clock()\n",
    "Running_Time_new_halley = end - start\n",
    "print('Running time: ',Running_Time_new_halley)\n",
    "        "
   ]
  },
  {
   "cell_type": "code",
   "execution_count": 124,
   "metadata": {},
   "outputs": [],
   "source": [
    "euro_op['est_implied_volatility_new_halley'] = list_new_halley\n",
    "euro_op['count_new_halley'] = iter_new_halley \n",
    "euro_op.head()\n",
    "\n",
    "#Calculate the MSE and efficiency\n",
    "MSE_new_halley = sum((euro_op['est_implied_volatility_new_halley'] - euro_op['Implied volatility']) ** 2)/euro_op.shape[0]\n",
    "E_new_halley = euro_op['count_new_halley'].mean()\n",
    "ratio_new_halley = 1/((1+MSE_new_halley)*log((1+E_new_halley),2))"
   ]
  },
  {
   "cell_type": "code",
   "execution_count": 125,
   "metadata": {},
   "outputs": [
    {
     "data": {
      "text/plain": [
       "0.48776655823648124"
      ]
     },
     "execution_count": 125,
     "metadata": {},
     "output_type": "execute_result"
    }
   ],
   "source": [
    "ratio_new_halley"
   ]
  },
  {
   "cell_type": "code",
   "execution_count": null,
   "metadata": {},
   "outputs": [],
   "source": []
  },
  {
   "cell_type": "markdown",
   "metadata": {},
   "source": [
    "#### g. Halley’s irrational formula (Note: you can only pick plus sign in your implementation)"
   ]
  },
  {
   "cell_type": "code",
   "execution_count": 126,
   "metadata": {},
   "outputs": [],
   "source": [
    "def halley_irrational(S,K,T,r,x,option_type,market_price):\n",
    "    count=0\n",
    "    while abs(difference(x, S, K, T, r, option_type, mkt_price)) > error:\n",
    "        count=count+1\n",
    "        vega = bsm_vega(S,K,T,r,x)\n",
    "        vomma = bsm_vomma(S,K,T,r,x,vega)\n",
    "        x=x+(-vega+sqrt((vega**2)-2*difference(x, S, K, T, r, option_type, mkt_price)*vomma))/vomma\n",
    "    return x,count"
   ]
  },
  {
   "cell_type": "code",
   "execution_count": 135,
   "metadata": {},
   "outputs": [
    {
     "name": "stdout",
     "output_type": "stream",
     "text": [
      "Running time:  9.982838504958636\n"
     ]
    }
   ],
   "source": [
    "sd1 = []\n",
    "iter_h_irri = []\n",
    "start = time.clock()\n",
    "for i in range(len(euro_op)):\n",
    "    error = pow(10,-12)\n",
    "    r = 0.03\n",
    "    S = euro_op.iloc[i]['Underlaying asset price']\n",
    "    K = euro_op.iloc[i]['StrikePrice']\n",
    "    T = euro_op.iloc[i]['Expiration time']\n",
    " \n",
    "    implied_volatility = euro_op.iloc[i]['implied volatility']\n",
    "    option_type = euro_op.iloc[i]['Type']\n",
    "    mkt_price = euro_op.iloc[i]['Last']\n",
    "    \n",
    "    initial_point = optimize.brentq(difference,vol_min,vol_max,args=(S,K,T,r,option_type,mkt_price))\n",
    "        \n",
    "    \n",
    "    new_value,new_count = (halley_irrational(S,K,T,r,initial_point,option_type,mkt_price))\n",
    "    \n",
    "    sd1.append(new_value)\n",
    "    iter_h_irri.append(new_count+3)\n",
    "#     except:\n",
    "#         print(i)\n",
    "#     else:\n",
    "#         sd1.append(halley_irrational(S,K,T,r,sigma,option_type,market_price))\n",
    "end = time.clock()\n",
    "Running_Time_Halley_irrational = end - start\n",
    "print('Running time: ',Running_Time_Halley_irrational)\n",
    "        "
   ]
  },
  {
   "cell_type": "code",
   "execution_count": 136,
   "metadata": {},
   "outputs": [],
   "source": [
    "euro_op['est_implied_volatility_Halley_irrational'] = sd1\n",
    "euro_op['count_Halley_irrational'] = iter_h_irri\n",
    "euro_op.head()\n",
    "\n",
    "#Calculate the MSE and efficiency\n",
    "MSE_Halley_irrational = sum((euro_op['est_implied_volatility_Halley_irrational'] - euro_op['Implied volatility']) ** 2)/euro_op.shape[0]\n",
    "E_Halley_irrational = euro_op['count_Halley_irrational'].mean()\n",
    "ratio_Halley_irrational = 1/((1+MSE_new_newton)*log((1+E_new_newton),2))"
   ]
  },
  {
   "cell_type": "code",
   "execution_count": 137,
   "metadata": {},
   "outputs": [
    {
     "data": {
      "text/plain": [
       "0.48780860123681496"
      ]
     },
     "execution_count": 137,
     "metadata": {},
     "output_type": "execute_result"
    }
   ],
   "source": [
    "ratio_Halley_irrational"
   ]
  },
  {
   "cell_type": "code",
   "execution_count": 138,
   "metadata": {},
   "outputs": [],
   "source": [
    "Total = pd.DataFrame([[MSE_bisection,MSE_brent,MSE_Muller,MSE_newton,MSE_new_newton,MSE_new_halley,MSE_Halley_irrational],\n",
    "                     [E_bisection,E_brent,Et_Muller,E_newton,E_new_newton,E_new_halley,E_Halley_irrational],\n",
    "                     [ratio_bisection,ratio_brent,ratio_Muller ,ratio_newton,ratio_new_newton,ratio_new_halley,ratio_Halley_irrational],\n",
    "                     [Running_Time_Bisection,Running_Time_Brent,Running_Time_Muller_Bisection,Running_Time_Newton,Running_Time_New_Newton,Running_Time_new_halley,Running_Time_Halley_irrational]],\n",
    "                     columns = ['Classic Bisection method','Brent method','Muller-Bisection','Newton method','New newton','New Halley','Halley’s irrational formula'],\n",
    "                    index = ['MSE','E(t)','Efficiency','Running Time'])\n"
   ]
  },
  {
   "cell_type": "code",
   "execution_count": 139,
   "metadata": {},
   "outputs": [
    {
     "data": {
      "text/html": [
       "<div>\n",
       "<style scoped>\n",
       "    .dataframe tbody tr th:only-of-type {\n",
       "        vertical-align: middle;\n",
       "    }\n",
       "\n",
       "    .dataframe tbody tr th {\n",
       "        vertical-align: top;\n",
       "    }\n",
       "\n",
       "    .dataframe thead th {\n",
       "        text-align: right;\n",
       "    }\n",
       "</style>\n",
       "<table border=\"1\" class=\"dataframe\">\n",
       "  <thead>\n",
       "    <tr style=\"text-align: right;\">\n",
       "      <th></th>\n",
       "      <th>Classic Bisection method</th>\n",
       "      <th>Brent method</th>\n",
       "      <th>Muller-Bisection</th>\n",
       "      <th>Newton method</th>\n",
       "      <th>New newton</th>\n",
       "      <th>New Halley</th>\n",
       "      <th>Halley’s irrational formula</th>\n",
       "    </tr>\n",
       "  </thead>\n",
       "  <tbody>\n",
       "    <tr>\n",
       "      <th>MSE</th>\n",
       "      <td>0.000093</td>\n",
       "      <td>0.000093</td>\n",
       "      <td>0.000093</td>\n",
       "      <td>0.000093</td>\n",
       "      <td>0.000093</td>\n",
       "      <td>0.000093</td>\n",
       "      <td>0.000093</td>\n",
       "    </tr>\n",
       "    <tr>\n",
       "      <th>E(t)</th>\n",
       "      <td>43.369168</td>\n",
       "      <td>7.586714</td>\n",
       "      <td>6.181034</td>\n",
       "      <td>3.670892</td>\n",
       "      <td>3.140467</td>\n",
       "      <td>3.140974</td>\n",
       "      <td>3.140467</td>\n",
       "    </tr>\n",
       "    <tr>\n",
       "      <th>Efficiency</th>\n",
       "      <td>0.182749</td>\n",
       "      <td>0.322332</td>\n",
       "      <td>0.351561</td>\n",
       "      <td>0.449659</td>\n",
       "      <td>0.487809</td>\n",
       "      <td>0.487767</td>\n",
       "      <td>0.487809</td>\n",
       "    </tr>\n",
       "    <tr>\n",
       "      <th>Running Time</th>\n",
       "      <td>54.565850</td>\n",
       "      <td>8.207846</td>\n",
       "      <td>51.448043</td>\n",
       "      <td>12.097481</td>\n",
       "      <td>9.540772</td>\n",
       "      <td>9.235969</td>\n",
       "      <td>9.982839</td>\n",
       "    </tr>\n",
       "  </tbody>\n",
       "</table>\n",
       "</div>"
      ],
      "text/plain": [
       "              Classic Bisection method  Brent method  Muller-Bisection  \\\n",
       "MSE                           0.000093      0.000093          0.000093   \n",
       "E(t)                         43.369168      7.586714          6.181034   \n",
       "Efficiency                    0.182749      0.322332          0.351561   \n",
       "Running Time                 54.565850      8.207846         51.448043   \n",
       "\n",
       "              Newton method  New newton  New Halley  \\\n",
       "MSE                0.000093    0.000093    0.000093   \n",
       "E(t)               3.670892    3.140467    3.140974   \n",
       "Efficiency         0.449659    0.487809    0.487767   \n",
       "Running Time      12.097481    9.540772    9.235969   \n",
       "\n",
       "              Halley’s irrational formula  \n",
       "MSE                              0.000093  \n",
       "E(t)                             3.140467  \n",
       "Efficiency                       0.487809  \n",
       "Running Time                     9.982839  "
      ]
     },
     "execution_count": 139,
     "metadata": {},
     "output_type": "execute_result"
    }
   ],
   "source": [
    "Total"
   ]
  },
  {
   "cell_type": "code",
   "execution_count": 140,
   "metadata": {},
   "outputs": [],
   "source": [
    "df = Total.T"
   ]
  },
  {
   "cell_type": "code",
   "execution_count": 141,
   "metadata": {},
   "outputs": [
    {
     "data": {
      "text/html": [
       "<div>\n",
       "<style scoped>\n",
       "    .dataframe tbody tr th:only-of-type {\n",
       "        vertical-align: middle;\n",
       "    }\n",
       "\n",
       "    .dataframe tbody tr th {\n",
       "        vertical-align: top;\n",
       "    }\n",
       "\n",
       "    .dataframe thead th {\n",
       "        text-align: right;\n",
       "    }\n",
       "</style>\n",
       "<table border=\"1\" class=\"dataframe\">\n",
       "  <thead>\n",
       "    <tr style=\"text-align: right;\">\n",
       "      <th></th>\n",
       "      <th>MSE</th>\n",
       "      <th>E(t)</th>\n",
       "      <th>Efficiency</th>\n",
       "      <th>Running Time</th>\n",
       "    </tr>\n",
       "  </thead>\n",
       "  <tbody>\n",
       "    <tr>\n",
       "      <th>Classic Bisection method</th>\n",
       "      <td>0.000093</td>\n",
       "      <td>43.369168</td>\n",
       "      <td>0.182749</td>\n",
       "      <td>54.565850</td>\n",
       "    </tr>\n",
       "    <tr>\n",
       "      <th>Brent method</th>\n",
       "      <td>0.000093</td>\n",
       "      <td>7.586714</td>\n",
       "      <td>0.322332</td>\n",
       "      <td>8.207846</td>\n",
       "    </tr>\n",
       "    <tr>\n",
       "      <th>Muller-Bisection</th>\n",
       "      <td>0.000093</td>\n",
       "      <td>6.181034</td>\n",
       "      <td>0.351561</td>\n",
       "      <td>51.448043</td>\n",
       "    </tr>\n",
       "    <tr>\n",
       "      <th>Newton method</th>\n",
       "      <td>0.000093</td>\n",
       "      <td>3.670892</td>\n",
       "      <td>0.449659</td>\n",
       "      <td>12.097481</td>\n",
       "    </tr>\n",
       "    <tr>\n",
       "      <th>New newton</th>\n",
       "      <td>0.000093</td>\n",
       "      <td>3.140467</td>\n",
       "      <td>0.487809</td>\n",
       "      <td>9.540772</td>\n",
       "    </tr>\n",
       "    <tr>\n",
       "      <th>New Halley</th>\n",
       "      <td>0.000093</td>\n",
       "      <td>3.140974</td>\n",
       "      <td>0.487767</td>\n",
       "      <td>9.235969</td>\n",
       "    </tr>\n",
       "    <tr>\n",
       "      <th>Halley’s irrational formula</th>\n",
       "      <td>0.000093</td>\n",
       "      <td>3.140467</td>\n",
       "      <td>0.487809</td>\n",
       "      <td>9.982839</td>\n",
       "    </tr>\n",
       "  </tbody>\n",
       "</table>\n",
       "</div>"
      ],
      "text/plain": [
       "                                  MSE       E(t)  Efficiency  Running Time\n",
       "Classic Bisection method     0.000093  43.369168    0.182749     54.565850\n",
       "Brent method                 0.000093   7.586714    0.322332      8.207846\n",
       "Muller-Bisection             0.000093   6.181034    0.351561     51.448043\n",
       "Newton method                0.000093   3.670892    0.449659     12.097481\n",
       "New newton                   0.000093   3.140467    0.487809      9.540772\n",
       "New Halley                   0.000093   3.140974    0.487767      9.235969\n",
       "Halley’s irrational formula  0.000093   3.140467    0.487809      9.982839"
      ]
     },
     "execution_count": 141,
     "metadata": {},
     "output_type": "execute_result"
    }
   ],
   "source": [
    "df"
   ]
  },
  {
   "cell_type": "code",
   "execution_count": 142,
   "metadata": {
    "scrolled": true
   },
   "outputs": [
    {
     "data": {
      "image/png": "[encoded data removed]",
      "text/plain": [
       "<matplotlib.figure.Figure at 0x15d4f39d550>"
      ]
     },
     "metadata": {},
     "output_type": "display_data"
    },
    {
     "data": {
      "image/png": "[encoded data removed]",
      "text/plain": [
       "<matplotlib.figure.Figure at 0x15d5147f4e0>"
      ]
     },
     "metadata": {},
     "output_type": "display_data"
    },
    {
     "data": {
      "image/png": "[encoded data removed]",
      "text/plain": [
       "<matplotlib.figure.Figure at 0x15d4f705e48>"
      ]
     },
     "metadata": {},
     "output_type": "display_data"
    },
    {
     "data": {
      "image/png": "[encoded data removed]",
      "text/plain": [
       "<matplotlib.figure.Figure at 0x15d51632ac8>"
      ]
     },
     "metadata": {},
     "output_type": "display_data"
    }
   ],
   "source": [
    "\n",
    "plt.figure(figsize=(18,10))\n",
    "plt.bar(['Classic Bisection method','Brent method','Muller-Bisection','Newton method','New newton','New Halley','Halley’s irrational formula'],\n",
    "        df['MSE'])\n",
    "plt.xlabel('Method')\n",
    "plt.ylabel('MSE')\n",
    "plt.title('MSE of difference methods')\n",
    "plt.grid()\n",
    "\n",
    "plt.figure(figsize=(18,10))\n",
    "plt.bar(['Classic Bisection method','Brent method','Muller-Bisection','Newton method','New newton','New Halley','Halley’s irrational formula'],\n",
    "        df['E(t)'],facecolor = 'lightskyblue')\n",
    "plt.xlabel('Method')\n",
    "plt.ylabel('Iteration')\n",
    "plt.title('Iteration Time of difference methods')\n",
    "plt.grid()\n",
    "\n",
    "plt.figure(figsize=(18,10))\n",
    "plt.bar(['Classic Bisection method','Brent method','Muller-Bisection','Newton method','New newton','New Halley','Halley’s irrational formula'],\n",
    "        df['Efficiency'],facecolor = 'yellowgreen')\n",
    "plt.xlabel('Method')\n",
    "plt.ylabel('Efficiency')\n",
    "plt.title('Efficiency of difference methods')\n",
    "plt.grid()\n",
    "\n",
    "plt.figure(figsize=(18,10))\n",
    "plt.bar(['Classic Bisection method','Brent method','Muller-Bisection','Newton method','New newton','New Halley','Halley’s irrational formula'],\n",
    "        df['Running Time'],facecolor = 'red')\n",
    "plt.xlabel('Methods')\n",
    "plt.ylabel('Running Time')\n",
    "plt.title('Running Time of difference methods')\n",
    "plt.grid()"
   ]
  },
  {
   "cell_type": "code",
   "execution_count": null,
   "metadata": {},
   "outputs": [],
   "source": []
  },
  {
   "cell_type": "code",
   "execution_count": null,
   "metadata": {},
   "outputs": [],
   "source": []
  }
 ],
 "metadata": {
  "kernelspec": {
   "display_name": "Python 3",
   "language": "python",
   "name": "python3"
  },
  "language_info": {
   "codemirror_mode": {
    "name": "ipython",
    "version": 3
   },
   "file_extension": ".py",
   "mimetype": "text/x-python",
   "name": "python",
   "nbconvert_exporter": "python",
   "pygments_lexer": "ipython3",
   "version": "3.6.5"
  }
 },
 "nbformat": 4,
 "nbformat_minor": 2
}
