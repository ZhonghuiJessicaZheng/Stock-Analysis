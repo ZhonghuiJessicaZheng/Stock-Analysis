{
 "cells": [
  {
   "cell_type": "markdown",
   "metadata": {},
   "source": [
    "# Preprocess and visualize option data"
   ]
  },
  {
   "cell_type": "code",
   "execution_count": 11,
   "metadata": {},
   "outputs": [],
   "source": [
    "import pandas as pd"
   ]
  },
  {
   "cell_type": "markdown",
   "metadata": {},
   "source": [
    "#### 1.Have 'Option2017Clean.csv':"
   ]
  },
  {
   "cell_type": "code",
   "execution_count": 12,
   "metadata": {},
   "outputs": [],
   "source": [
    "Option1 = pd.read_csv('Option2017.csv')"
   ]
  },
  {
   "cell_type": "code",
   "execution_count": 13,
   "metadata": {},
   "outputs": [],
   "source": [
    "Option1 = pd.DataFrame.dropna(Option1,how='any')"
   ]
  },
  {
   "cell_type": "code",
   "execution_count": 14,
   "metadata": {},
   "outputs": [
    {
     "data": {
      "text/plain": [
       "(8252, 17)"
      ]
     },
     "execution_count": 14,
     "metadata": {},
     "output_type": "execute_result"
    }
   ],
   "source": [
    "Option1.shape"
   ]
  },
  {
   "cell_type": "code",
   "execution_count": 15,
   "metadata": {},
   "outputs": [],
   "source": [
    "Option1 = Option1.drop_duplicates()"
   ]
  },
  {
   "cell_type": "code",
   "execution_count": 16,
   "metadata": {},
   "outputs": [],
   "source": [
    "Option1['ExpDate'] = pd.to_datetime(Option1['ExpDate'])"
   ]
  },
  {
   "cell_type": "code",
   "execution_count": 17,
   "metadata": {},
   "outputs": [],
   "source": [
    "Option1.to_csv('Option2017Clean.csv')"
   ]
  },
  {
   "cell_type": "markdown",
   "metadata": {},
   "source": [
    "#### 2.Have 'Option2017_2_Clean.csv':"
   ]
  },
  {
   "cell_type": "code",
   "execution_count": 18,
   "metadata": {},
   "outputs": [],
   "source": [
    "Option2 = pd.read_csv('Option2017_2.csv')"
   ]
  },
  {
   "cell_type": "code",
   "execution_count": 19,
   "metadata": {},
   "outputs": [],
   "source": [
    "Option2=Option2.drop(['Unnamed: 0'],axis=1)"
   ]
  },
  {
   "cell_type": "code",
   "execution_count": 20,
   "metadata": {},
   "outputs": [],
   "source": [
    "Option2['ExpDate'] = pd.to_datetime(Option2['ExpDate'])"
   ]
  },
  {
   "cell_type": "code",
   "execution_count": 21,
   "metadata": {},
   "outputs": [],
   "source": [
    "Option3 = pd.merge(Option1,Option2,how='left',on=['currentDate','Ticker','Last','Type','StrikePrice','ExpDate'])"
   ]
  },
  {
   "cell_type": "code",
   "execution_count": 22,
   "metadata": {},
   "outputs": [],
   "source": [
    "Option3 = pd.DataFrame.dropna(Option3,how='any')"
   ]
  },
  {
   "cell_type": "code",
   "execution_count": 23,
   "metadata": {
    "scrolled": true
   },
   "outputs": [
    {
     "data": {
      "text/plain": [
       "(7216, 20)"
      ]
     },
     "execution_count": 23,
     "metadata": {},
     "output_type": "execute_result"
    }
   ],
   "source": [
    "Option3.shape"
   ]
  },
  {
   "cell_type": "code",
   "execution_count": 24,
   "metadata": {},
   "outputs": [],
   "source": [
    "Option3 = Option3.drop_duplicates()"
   ]
  },
  {
   "cell_type": "code",
   "execution_count": 25,
   "metadata": {},
   "outputs": [
    {
     "data": {
      "text/html": [
       "<div>\n",
       "<style scoped>\n",
       "    .dataframe tbody tr th:only-of-type {\n",
       "        vertical-align: middle;\n",
       "    }\n",
       "\n",
       "    .dataframe tbody tr th {\n",
       "        vertical-align: top;\n",
       "    }\n",
       "\n",
       "    .dataframe thead th {\n",
       "        text-align: right;\n",
       "    }\n",
       "</style>\n",
       "<table border=\"1\" class=\"dataframe\">\n",
       "  <thead>\n",
       "    <tr style=\"text-align: right;\">\n",
       "      <th></th>\n",
       "      <th>ExpDate</th>\n",
       "      <th>StrikePrice</th>\n",
       "      <th>Ticker</th>\n",
       "      <th>Type</th>\n",
       "      <th>Last</th>\n",
       "      <th>Chg</th>\n",
       "      <th>Bid</th>\n",
       "      <th>Ask</th>\n",
       "      <th>Vol</th>\n",
       "      <th>Open Int</th>\n",
       "      <th>Delta</th>\n",
       "      <th>Gamma</th>\n",
       "      <th>Rho</th>\n",
       "      <th>Theta</th>\n",
       "      <th>Vega</th>\n",
       "      <th>implied volatility</th>\n",
       "      <th>currentDate</th>\n",
       "      <th>Implied volatility</th>\n",
       "      <th>Underlaying asset price</th>\n",
       "      <th>Expiration time</th>\n",
       "    </tr>\n",
       "  </thead>\n",
       "  <tbody>\n",
       "    <tr>\n",
       "      <th>0</th>\n",
       "      <td>2017-03-17</td>\n",
       "      <td>22.5</td>\n",
       "      <td>ARR</td>\n",
       "      <td>Put</td>\n",
       "      <td>0.95</td>\n",
       "      <td>-0.35</td>\n",
       "      <td>0.65</td>\n",
       "      <td>1.25</td>\n",
       "      <td>1.0</td>\n",
       "      <td>9.0</td>\n",
       "      <td>-0.69794</td>\n",
       "      <td>0.28368</td>\n",
       "      <td>-0.00832</td>\n",
       "      <td>-0.00832</td>\n",
       "      <td>0.02372</td>\n",
       "      <td>0.27590</td>\n",
       "      <td>2/17/17</td>\n",
       "      <td>0.27590</td>\n",
       "      <td>21.709999</td>\n",
       "      <td>0.076660</td>\n",
       "    </tr>\n",
       "    <tr>\n",
       "      <th>1</th>\n",
       "      <td>2017-04-21</td>\n",
       "      <td>22.0</td>\n",
       "      <td>ARR</td>\n",
       "      <td>Call</td>\n",
       "      <td>0.30</td>\n",
       "      <td>-0.20</td>\n",
       "      <td>0.10</td>\n",
       "      <td>0.40</td>\n",
       "      <td>40.0</td>\n",
       "      <td>659.0</td>\n",
       "      <td>0.45441</td>\n",
       "      <td>0.55431</td>\n",
       "      <td>0.01692</td>\n",
       "      <td>-0.00408</td>\n",
       "      <td>0.03730</td>\n",
       "      <td>0.10719</td>\n",
       "      <td>2/17/17</td>\n",
       "      <td>0.10719</td>\n",
       "      <td>21.709999</td>\n",
       "      <td>0.172485</td>\n",
       "    </tr>\n",
       "    <tr>\n",
       "      <th>2</th>\n",
       "      <td>2017-04-21</td>\n",
       "      <td>20.0</td>\n",
       "      <td>ARR</td>\n",
       "      <td>Put</td>\n",
       "      <td>0.15</td>\n",
       "      <td>-0.05</td>\n",
       "      <td>0.05</td>\n",
       "      <td>0.20</td>\n",
       "      <td>3.0</td>\n",
       "      <td>251.0</td>\n",
       "      <td>-0.12236</td>\n",
       "      <td>0.11984</td>\n",
       "      <td>-0.00430</td>\n",
       "      <td>-0.00275</td>\n",
       "      <td>0.01999</td>\n",
       "      <td>0.25595</td>\n",
       "      <td>2/17/17</td>\n",
       "      <td>0.25595</td>\n",
       "      <td>21.709999</td>\n",
       "      <td>0.172485</td>\n",
       "    </tr>\n",
       "    <tr>\n",
       "      <th>3</th>\n",
       "      <td>2017-04-21</td>\n",
       "      <td>22.0</td>\n",
       "      <td>ARR</td>\n",
       "      <td>Put</td>\n",
       "      <td>0.83</td>\n",
       "      <td>-0.02</td>\n",
       "      <td>0.65</td>\n",
       "      <td>1.00</td>\n",
       "      <td>1.0</td>\n",
       "      <td>166.0</td>\n",
       "      <td>-0.52709</td>\n",
       "      <td>0.26444</td>\n",
       "      <td>-0.01502</td>\n",
       "      <td>-0.00457</td>\n",
       "      <td>0.03551</td>\n",
       "      <td>0.21858</td>\n",
       "      <td>2/17/17</td>\n",
       "      <td>0.21858</td>\n",
       "      <td>21.709999</td>\n",
       "      <td>0.172485</td>\n",
       "    </tr>\n",
       "    <tr>\n",
       "      <th>4</th>\n",
       "      <td>2017-04-21</td>\n",
       "      <td>23.0</td>\n",
       "      <td>ARR</td>\n",
       "      <td>Put</td>\n",
       "      <td>1.55</td>\n",
       "      <td>0.05</td>\n",
       "      <td>1.40</td>\n",
       "      <td>1.85</td>\n",
       "      <td>2.0</td>\n",
       "      <td>145.0</td>\n",
       "      <td>-0.68386</td>\n",
       "      <td>0.17777</td>\n",
       "      <td>-0.01760</td>\n",
       "      <td>-0.00590</td>\n",
       "      <td>0.03575</td>\n",
       "      <td>0.33344</td>\n",
       "      <td>2/17/17</td>\n",
       "      <td>0.33344</td>\n",
       "      <td>21.709999</td>\n",
       "      <td>0.172485</td>\n",
       "    </tr>\n",
       "  </tbody>\n",
       "</table>\n",
       "</div>"
      ],
      "text/plain": [
       "     ExpDate  StrikePrice Ticker  Type  Last   Chg   Bid   Ask   Vol  \\\n",
       "0 2017-03-17         22.5    ARR   Put  0.95 -0.35  0.65  1.25   1.0   \n",
       "1 2017-04-21         22.0    ARR  Call  0.30 -0.20  0.10  0.40  40.0   \n",
       "2 2017-04-21         20.0    ARR   Put  0.15 -0.05  0.05  0.20   3.0   \n",
       "3 2017-04-21         22.0    ARR   Put  0.83 -0.02  0.65  1.00   1.0   \n",
       "4 2017-04-21         23.0    ARR   Put  1.55  0.05  1.40  1.85   2.0   \n",
       "\n",
       "   Open Int    Delta    Gamma      Rho    Theta     Vega  implied volatility  \\\n",
       "0       9.0 -0.69794  0.28368 -0.00832 -0.00832  0.02372             0.27590   \n",
       "1     659.0  0.45441  0.55431  0.01692 -0.00408  0.03730             0.10719   \n",
       "2     251.0 -0.12236  0.11984 -0.00430 -0.00275  0.01999             0.25595   \n",
       "3     166.0 -0.52709  0.26444 -0.01502 -0.00457  0.03551             0.21858   \n",
       "4     145.0 -0.68386  0.17777 -0.01760 -0.00590  0.03575             0.33344   \n",
       "\n",
       "  currentDate  Implied volatility  Underlaying asset price  Expiration time  \n",
       "0     2/17/17             0.27590                21.709999         0.076660  \n",
       "1     2/17/17             0.10719                21.709999         0.172485  \n",
       "2     2/17/17             0.25595                21.709999         0.172485  \n",
       "3     2/17/17             0.21858                21.709999         0.172485  \n",
       "4     2/17/17             0.33344                21.709999         0.172485  "
      ]
     },
     "execution_count": 25,
     "metadata": {},
     "output_type": "execute_result"
    }
   ],
   "source": [
    "Option3.head()"
   ]
  },
  {
   "cell_type": "code",
   "execution_count": 26,
   "metadata": {},
   "outputs": [],
   "source": [
    "Option3 = Option3.dropna(how='any')"
   ]
  },
  {
   "cell_type": "code",
   "execution_count": 27,
   "metadata": {},
   "outputs": [
    {
     "data": {
      "text/plain": [
       "(7174, 20)"
      ]
     },
     "execution_count": 27,
     "metadata": {},
     "output_type": "execute_result"
    }
   ],
   "source": [
    "Option3.shape"
   ]
  },
  {
   "cell_type": "code",
   "execution_count": 28,
   "metadata": {},
   "outputs": [],
   "source": [
    "Option3.to_csv('Option2017_2_Clean.csv')"
   ]
  },
  {
   "cell_type": "markdown",
   "metadata": {},
   "source": [
    "#### 3.Visualize and generate eps/tiﬀ ﬁles:"
   ]
  },
  {
   "cell_type": "code",
   "execution_count": 29,
   "metadata": {},
   "outputs": [],
   "source": [
    "Option3 = pd.read_csv('Option2017_2_Clean.csv')"
   ]
  },
  {
   "cell_type": "code",
   "execution_count": 30,
   "metadata": {},
   "outputs": [],
   "source": [
    "import numpy as np\n",
    "import matplotlib.pyplot as plt\n",
    "from mpl_toolkits.mplot3d import Axes3D\n",
    "import seaborn as sns\n",
    "import math\n",
    "import plotly.plotly as py\n",
    "import plotly.graph_objs as go\n",
    "import plotly.figure_factory as ff"
   ]
  },
  {
   "cell_type": "code",
   "execution_count": 31,
   "metadata": {},
   "outputs": [],
   "source": [
    "aapl = Option3[Option3['Ticker'] == 'AAPL']\n",
    "intl = Option3[Option3['Ticker'] == 'INTL']\n",
    "msft = Option3[Option3['Ticker'] == 'MSFT']\n",
    "amzn = Option3[Option3['Ticker'] == 'AMZN']\n",
    "goog = Option3[Option3['Ticker'] == 'GOOG']"
   ]
  },
  {
   "cell_type": "code",
   "execution_count": 32,
   "metadata": {},
   "outputs": [
    {
     "data": {
      "text/html": [
       "<div>\n",
       "<style scoped>\n",
       "    .dataframe tbody tr th:only-of-type {\n",
       "        vertical-align: middle;\n",
       "    }\n",
       "\n",
       "    .dataframe tbody tr th {\n",
       "        vertical-align: top;\n",
       "    }\n",
       "\n",
       "    .dataframe thead th {\n",
       "        text-align: right;\n",
       "    }\n",
       "</style>\n",
       "<table border=\"1\" class=\"dataframe\">\n",
       "  <thead>\n",
       "    <tr style=\"text-align: right;\">\n",
       "      <th></th>\n",
       "      <th>Unnamed: 0</th>\n",
       "      <th>ExpDate</th>\n",
       "      <th>StrikePrice</th>\n",
       "      <th>Ticker</th>\n",
       "      <th>Type</th>\n",
       "      <th>Last</th>\n",
       "      <th>Chg</th>\n",
       "      <th>Bid</th>\n",
       "      <th>Ask</th>\n",
       "      <th>Vol</th>\n",
       "      <th>...</th>\n",
       "      <th>Delta</th>\n",
       "      <th>Gamma</th>\n",
       "      <th>Rho</th>\n",
       "      <th>Theta</th>\n",
       "      <th>Vega</th>\n",
       "      <th>implied volatility</th>\n",
       "      <th>currentDate</th>\n",
       "      <th>Implied volatility</th>\n",
       "      <th>Underlaying asset price</th>\n",
       "      <th>Expiration time</th>\n",
       "    </tr>\n",
       "  </thead>\n",
       "  <tbody>\n",
       "    <tr>\n",
       "      <th>2084</th>\n",
       "      <td>2399</td>\n",
       "      <td>2017-02-24</td>\n",
       "      <td>123.0</td>\n",
       "      <td>AAPL</td>\n",
       "      <td>Call</td>\n",
       "      <td>12.55</td>\n",
       "      <td>-0.06</td>\n",
       "      <td>12.50</td>\n",
       "      <td>12.95</td>\n",
       "      <td>5.0</td>\n",
       "      <td>...</td>\n",
       "      <td>1.0</td>\n",
       "      <td>0.0</td>\n",
       "      <td>0.02339</td>\n",
       "      <td>-0.01881</td>\n",
       "      <td>0.0</td>\n",
       "      <td>0.37750</td>\n",
       "      <td>2/17/17</td>\n",
       "      <td>0.37750</td>\n",
       "      <td>135.720001</td>\n",
       "      <td>0.019165</td>\n",
       "    </tr>\n",
       "    <tr>\n",
       "      <th>2085</th>\n",
       "      <td>2400</td>\n",
       "      <td>2017-02-24</td>\n",
       "      <td>126.0</td>\n",
       "      <td>AAPL</td>\n",
       "      <td>Call</td>\n",
       "      <td>9.45</td>\n",
       "      <td>-0.05</td>\n",
       "      <td>9.55</td>\n",
       "      <td>9.90</td>\n",
       "      <td>7.0</td>\n",
       "      <td>...</td>\n",
       "      <td>1.0</td>\n",
       "      <td>0.0</td>\n",
       "      <td>0.02396</td>\n",
       "      <td>-0.01927</td>\n",
       "      <td>0.0</td>\n",
       "      <td>0.31360</td>\n",
       "      <td>2/17/17</td>\n",
       "      <td>0.31360</td>\n",
       "      <td>135.720001</td>\n",
       "      <td>0.019165</td>\n",
       "    </tr>\n",
       "    <tr>\n",
       "      <th>2086</th>\n",
       "      <td>2401</td>\n",
       "      <td>2017-02-24</td>\n",
       "      <td>127.0</td>\n",
       "      <td>AAPL</td>\n",
       "      <td>Call</td>\n",
       "      <td>8.50</td>\n",
       "      <td>-0.02</td>\n",
       "      <td>8.60</td>\n",
       "      <td>8.80</td>\n",
       "      <td>30.0</td>\n",
       "      <td>...</td>\n",
       "      <td>1.0</td>\n",
       "      <td>0.0</td>\n",
       "      <td>0.02415</td>\n",
       "      <td>-0.01943</td>\n",
       "      <td>0.0</td>\n",
       "      <td>0.25110</td>\n",
       "      <td>2/17/17</td>\n",
       "      <td>0.25110</td>\n",
       "      <td>135.720001</td>\n",
       "      <td>0.019165</td>\n",
       "    </tr>\n",
       "    <tr>\n",
       "      <th>2087</th>\n",
       "      <td>2402</td>\n",
       "      <td>2017-02-24</td>\n",
       "      <td>128.0</td>\n",
       "      <td>AAPL</td>\n",
       "      <td>Call</td>\n",
       "      <td>7.55</td>\n",
       "      <td>0.15</td>\n",
       "      <td>7.55</td>\n",
       "      <td>7.85</td>\n",
       "      <td>59.0</td>\n",
       "      <td>...</td>\n",
       "      <td>1.0</td>\n",
       "      <td>0.0</td>\n",
       "      <td>0.02434</td>\n",
       "      <td>-0.01958</td>\n",
       "      <td>0.0</td>\n",
       "      <td>0.22892</td>\n",
       "      <td>2/17/17</td>\n",
       "      <td>0.22892</td>\n",
       "      <td>135.720001</td>\n",
       "      <td>0.019165</td>\n",
       "    </tr>\n",
       "    <tr>\n",
       "      <th>2088</th>\n",
       "      <td>2403</td>\n",
       "      <td>2017-02-24</td>\n",
       "      <td>130.0</td>\n",
       "      <td>AAPL</td>\n",
       "      <td>Call</td>\n",
       "      <td>5.68</td>\n",
       "      <td>0.28</td>\n",
       "      <td>5.55</td>\n",
       "      <td>5.95</td>\n",
       "      <td>379.0</td>\n",
       "      <td>...</td>\n",
       "      <td>1.0</td>\n",
       "      <td>0.0</td>\n",
       "      <td>0.02473</td>\n",
       "      <td>-0.01989</td>\n",
       "      <td>0.0</td>\n",
       "      <td>0.20144</td>\n",
       "      <td>2/17/17</td>\n",
       "      <td>0.20144</td>\n",
       "      <td>135.720001</td>\n",
       "      <td>0.019165</td>\n",
       "    </tr>\n",
       "  </tbody>\n",
       "</table>\n",
       "<p>5 rows × 21 columns</p>\n",
       "</div>"
      ],
      "text/plain": [
       "      Unnamed: 0     ExpDate  StrikePrice Ticker  Type   Last   Chg    Bid  \\\n",
       "2084        2399  2017-02-24        123.0   AAPL  Call  12.55 -0.06  12.50   \n",
       "2085        2400  2017-02-24        126.0   AAPL  Call   9.45 -0.05   9.55   \n",
       "2086        2401  2017-02-24        127.0   AAPL  Call   8.50 -0.02   8.60   \n",
       "2087        2402  2017-02-24        128.0   AAPL  Call   7.55  0.15   7.55   \n",
       "2088        2403  2017-02-24        130.0   AAPL  Call   5.68  0.28   5.55   \n",
       "\n",
       "        Ask    Vol       ...         Delta  Gamma      Rho    Theta  Vega  \\\n",
       "2084  12.95    5.0       ...           1.0    0.0  0.02339 -0.01881   0.0   \n",
       "2085   9.90    7.0       ...           1.0    0.0  0.02396 -0.01927   0.0   \n",
       "2086   8.80   30.0       ...           1.0    0.0  0.02415 -0.01943   0.0   \n",
       "2087   7.85   59.0       ...           1.0    0.0  0.02434 -0.01958   0.0   \n",
       "2088   5.95  379.0       ...           1.0    0.0  0.02473 -0.01989   0.0   \n",
       "\n",
       "      implied volatility  currentDate Implied volatility  \\\n",
       "2084             0.37750      2/17/17            0.37750   \n",
       "2085             0.31360      2/17/17            0.31360   \n",
       "2086             0.25110      2/17/17            0.25110   \n",
       "2087             0.22892      2/17/17            0.22892   \n",
       "2088             0.20144      2/17/17            0.20144   \n",
       "\n",
       "      Underlaying asset price  Expiration time  \n",
       "2084               135.720001         0.019165  \n",
       "2085               135.720001         0.019165  \n",
       "2086               135.720001         0.019165  \n",
       "2087               135.720001         0.019165  \n",
       "2088               135.720001         0.019165  \n",
       "\n",
       "[5 rows x 21 columns]"
      ]
     },
     "execution_count": 32,
     "metadata": {},
     "output_type": "execute_result"
    }
   ],
   "source": [
    "aapl.head()"
   ]
  },
  {
   "cell_type": "code",
   "execution_count": 33,
   "metadata": {},
   "outputs": [],
   "source": [
    "#APPLE 3D\n",
    "strike_price0 = aapl['StrikePrice']\n",
    "time_to_maturity0 = aapl['Expiration time']\n",
    "implied_vol0 = aapl['implied volatility']"
   ]
  },
  {
   "cell_type": "code",
   "execution_count": 34,
   "metadata": {},
   "outputs": [
    {
     "data": {
      "text/plain": [
       "248"
      ]
     },
     "execution_count": 34,
     "metadata": {},
     "output_type": "execute_result"
    }
   ],
   "source": [
    "len(aapl)"
   ]
  },
  {
   "cell_type": "code",
   "execution_count": 35,
   "metadata": {},
   "outputs": [
    {
     "name": "stdout",
     "output_type": "stream",
     "text": [
      "High five! You successfully sent some data to your account on plotly. View your plot in your browser at https://plot.ly/~Jessicazzh/0 or inside your plot.ly account where it is named '3d-scatter-colorscale'\n"
     ]
    },
    {
     "data": {
      "text/html": [
       "<iframe id=\"igraph\" scrolling=\"no\" style=\"border:none;\" seamless=\"seamless\" src=\"https://plot.ly/~Jessicazzh/0.embed\" height=\"525px\" width=\"100%\"></iframe>"
      ],
      "text/plain": [
       "<plotly.tools.PlotlyDisplay object>"
      ]
     },
     "execution_count": 35,
     "metadata": {},
     "output_type": "execute_result"
    }
   ],
   "source": [
    "x = strike_price0\n",
    "y = time_to_maturity0\n",
    "z = implied_vol0\n",
    "\n",
    "trace1 = go.Scatter3d(\n",
    "    x=x,\n",
    "    y=y,\n",
    "    z=z,\n",
    "    mode='markers',\n",
    "    marker=dict(size=8,color=z,\n",
    "        colorscale='Viridis', \n",
    "        opacity=0.8))\n",
    "\n",
    "data = [trace1]\n",
    "layout = go.Layout(\n",
    "    title='Apple 3D Visualization',\n",
    "    xaxis=dict(title='Strike Price',titlefont=dict(size=18,color='#7f7f7f')),\n",
    "    yaxis=dict(title='Time to Maturity',titlefont=dict(size=18,color='#7f7f7f')),\n",
    "    margin=dict(l=0,r=0,b=0,t=0))\n",
    "\n",
    "fig = go.Figure(data=data,layout=layout)\n",
    "py.iplot(fig, filename='3d-scatter-colorscale')"
   ]
  },
  {
   "cell_type": "code",
   "execution_count": 36,
   "metadata": {},
   "outputs": [
    {
     "data": {
      "text/html": [
       "<div>\n",
       "<style scoped>\n",
       "    .dataframe tbody tr th:only-of-type {\n",
       "        vertical-align: middle;\n",
       "    }\n",
       "\n",
       "    .dataframe tbody tr th {\n",
       "        vertical-align: top;\n",
       "    }\n",
       "\n",
       "    .dataframe thead th {\n",
       "        text-align: right;\n",
       "    }\n",
       "</style>\n",
       "<table border=\"1\" class=\"dataframe\">\n",
       "  <thead>\n",
       "    <tr style=\"text-align: right;\">\n",
       "      <th></th>\n",
       "      <th>Unnamed: 0</th>\n",
       "      <th>ExpDate</th>\n",
       "      <th>StrikePrice</th>\n",
       "      <th>Ticker</th>\n",
       "      <th>Type</th>\n",
       "      <th>Last</th>\n",
       "      <th>Chg</th>\n",
       "      <th>Bid</th>\n",
       "      <th>Ask</th>\n",
       "      <th>Vol</th>\n",
       "      <th>...</th>\n",
       "      <th>Delta</th>\n",
       "      <th>Gamma</th>\n",
       "      <th>Rho</th>\n",
       "      <th>Theta</th>\n",
       "      <th>Vega</th>\n",
       "      <th>implied volatility</th>\n",
       "      <th>currentDate</th>\n",
       "      <th>Implied volatility</th>\n",
       "      <th>Underlaying asset price</th>\n",
       "      <th>Expiration time</th>\n",
       "    </tr>\n",
       "  </thead>\n",
       "  <tbody>\n",
       "    <tr>\n",
       "      <th>6422</th>\n",
       "      <td>7425</td>\n",
       "      <td>2017-04-21</td>\n",
       "      <td>35.0</td>\n",
       "      <td>INTL</td>\n",
       "      <td>Put</td>\n",
       "      <td>0.85</td>\n",
       "      <td>-0.05</td>\n",
       "      <td>0.6</td>\n",
       "      <td>1.1</td>\n",
       "      <td>98.0</td>\n",
       "      <td>...</td>\n",
       "      <td>-0.18505</td>\n",
       "      <td>0.05279</td>\n",
       "      <td>-0.01229</td>\n",
       "      <td>-0.01204</td>\n",
       "      <td>0.03765</td>\n",
       "      <td>0.26483</td>\n",
       "      <td>2/17/17</td>\n",
       "      <td>0.26483</td>\n",
       "      <td>36.91</td>\n",
       "      <td>0.172485</td>\n",
       "    </tr>\n",
       "  </tbody>\n",
       "</table>\n",
       "<p>1 rows × 21 columns</p>\n",
       "</div>"
      ],
      "text/plain": [
       "      Unnamed: 0     ExpDate  StrikePrice Ticker Type  Last   Chg  Bid  Ask  \\\n",
       "6422        7425  2017-04-21         35.0   INTL  Put  0.85 -0.05  0.6  1.1   \n",
       "\n",
       "       Vol       ...           Delta    Gamma      Rho    Theta     Vega  \\\n",
       "6422  98.0       ...        -0.18505  0.05279 -0.01229 -0.01204  0.03765   \n",
       "\n",
       "      implied volatility  currentDate Implied volatility  \\\n",
       "6422             0.26483      2/17/17            0.26483   \n",
       "\n",
       "      Underlaying asset price  Expiration time  \n",
       "6422                    36.91         0.172485  \n",
       "\n",
       "[1 rows x 21 columns]"
      ]
     },
     "execution_count": 36,
     "metadata": {},
     "output_type": "execute_result"
    }
   ],
   "source": [
    "#INTL 3D\n",
    "intl"
   ]
  },
  {
   "cell_type": "code",
   "execution_count": 37,
   "metadata": {},
   "outputs": [],
   "source": [
    "strike_price1 = intl['StrikePrice']\n",
    "time_to_maturity1 = intl['Expiration time']\n",
    "implied_vol1 = intl['implied volatility']"
   ]
  },
  {
   "cell_type": "code",
   "execution_count": 38,
   "metadata": {},
   "outputs": [
    {
     "data": {
      "image/png": "[encoded data removed]",
      "text/plain": [
       "<Figure size 432x288 with 1 Axes>"
      ]
     },
     "metadata": {},
     "output_type": "display_data"
    }
   ],
   "source": [
    "fig = plt.figure().gca(projection='3d')  \n",
    "fig.scatter(strike_price1, time_to_maturity1, implied_vol1, c='g')\n",
    "\n",
    "fig.set_xlabel('Strike Price')\n",
    "fig.set_ylabel('Time to maturity')\n",
    "fig.set_zlabel('Implied Volatility')\n",
    "\n",
    "plt.show()"
   ]
  },
  {
   "cell_type": "code",
   "execution_count": 39,
   "metadata": {},
   "outputs": [
    {
     "data": {
      "text/html": [
       "<div>\n",
       "<style scoped>\n",
       "    .dataframe tbody tr th:only-of-type {\n",
       "        vertical-align: middle;\n",
       "    }\n",
       "\n",
       "    .dataframe tbody tr th {\n",
       "        vertical-align: top;\n",
       "    }\n",
       "\n",
       "    .dataframe thead th {\n",
       "        text-align: right;\n",
       "    }\n",
       "</style>\n",
       "<table border=\"1\" class=\"dataframe\">\n",
       "  <thead>\n",
       "    <tr style=\"text-align: right;\">\n",
       "      <th></th>\n",
       "      <th>Unnamed: 0</th>\n",
       "      <th>ExpDate</th>\n",
       "      <th>StrikePrice</th>\n",
       "      <th>Ticker</th>\n",
       "      <th>Type</th>\n",
       "      <th>Last</th>\n",
       "      <th>Chg</th>\n",
       "      <th>Bid</th>\n",
       "      <th>Ask</th>\n",
       "      <th>Vol</th>\n",
       "      <th>...</th>\n",
       "      <th>Delta</th>\n",
       "      <th>Gamma</th>\n",
       "      <th>Rho</th>\n",
       "      <th>Theta</th>\n",
       "      <th>Vega</th>\n",
       "      <th>implied volatility</th>\n",
       "      <th>currentDate</th>\n",
       "      <th>Implied volatility</th>\n",
       "      <th>Underlaying asset price</th>\n",
       "      <th>Expiration time</th>\n",
       "    </tr>\n",
       "  </thead>\n",
       "  <tbody>\n",
       "  </tbody>\n",
       "</table>\n",
       "<p>0 rows × 21 columns</p>\n",
       "</div>"
      ],
      "text/plain": [
       "Empty DataFrame\n",
       "Columns: [Unnamed: 0, ExpDate, StrikePrice, Ticker, Type, Last, Chg, Bid, Ask, Vol, Open Int, Delta, Gamma, Rho, Theta, Vega, implied volatility, currentDate, Implied volatility, Underlaying asset price, Expiration time]\n",
       "Index: []\n",
       "\n",
       "[0 rows x 21 columns]"
      ]
     },
     "execution_count": 39,
     "metadata": {},
     "output_type": "execute_result"
    }
   ],
   "source": [
    "#MSFT 3D\n",
    "msft"
   ]
  },
  {
   "cell_type": "markdown",
   "metadata": {},
   "source": [
    "There is no MSFT data in the set, therefore no graphs here."
   ]
  },
  {
   "cell_type": "code",
   "execution_count": 40,
   "metadata": {},
   "outputs": [],
   "source": [
    "#AMZN 3D\n",
    "strike_price3 = amzn['StrikePrice']\n",
    "time_to_maturity3 = amzn['Expiration time']\n",
    "implied_vol3 = amzn['implied volatility']"
   ]
  },
  {
   "cell_type": "code",
   "execution_count": 41,
   "metadata": {},
   "outputs": [
    {
     "name": "stdout",
     "output_type": "stream",
     "text": [
      "High five! You successfully sent some data to your account on plotly. View your plot in your browser at https://plot.ly/~Jessicazzh/0 or inside your plot.ly account where it is named '3d-scatter-colorscale'\n"
     ]
    },
    {
     "data": {
      "text/html": [
       "<iframe id=\"igraph\" scrolling=\"no\" style=\"border:none;\" seamless=\"seamless\" src=\"https://plot.ly/~Jessicazzh/0.embed\" height=\"525px\" width=\"100%\"></iframe>"
      ],
      "text/plain": [
       "<plotly.tools.PlotlyDisplay object>"
      ]
     },
     "execution_count": 41,
     "metadata": {},
     "output_type": "execute_result"
    }
   ],
   "source": [
    "x = strike_price3\n",
    "y = time_to_maturity3\n",
    "z = implied_vol3\n",
    "\n",
    "trace1 = go.Scatter3d(\n",
    "    x=x,\n",
    "    y=y,\n",
    "    z=z,\n",
    "    mode='markers',\n",
    "    marker=dict(size=8,color=z,\n",
    "        colorscale='Viridis', \n",
    "        opacity=0.8))\n",
    "\n",
    "data = [trace1]\n",
    "layout = go.Layout(\n",
    "    title='Amazon 3D Visualization',\n",
    "    xaxis=dict(title='Strike Price',titlefont=dict(size=18,color='#7f7f7f')),\n",
    "    yaxis=dict(title='Time to Maturity',titlefont=dict(size=18,color='#7f7f7f')),\n",
    "    margin=dict(l=0,r=0,b=0,t=0))\n",
    "\n",
    "fig = go.Figure(data=data,layout=layout)\n",
    "py.iplot(fig, filename='3d-scatter-colorscale')"
   ]
  },
  {
   "cell_type": "code",
   "execution_count": 42,
   "metadata": {},
   "outputs": [],
   "source": [
    "#GOOG 3D\n",
    "strike_price4 = goog['StrikePrice']\n",
    "time_to_maturity4 = goog['Expiration time']\n",
    "implied_vol4 = goog['implied volatility']"
   ]
  },
  {
   "cell_type": "code",
   "execution_count": 43,
   "metadata": {},
   "outputs": [
    {
     "name": "stdout",
     "output_type": "stream",
     "text": [
      "High five! You successfully sent some data to your account on plotly. View your plot in your browser at https://plot.ly/~Jessicazzh/0 or inside your plot.ly account where it is named '3d-scatter-colorscale'\n"
     ]
    },
    {
     "data": {
      "text/html": [
       "<iframe id=\"igraph\" scrolling=\"no\" style=\"border:none;\" seamless=\"seamless\" src=\"https://plot.ly/~Jessicazzh/0.embed\" height=\"525px\" width=\"100%\"></iframe>"
      ],
      "text/plain": [
       "<plotly.tools.PlotlyDisplay object>"
      ]
     },
     "execution_count": 43,
     "metadata": {},
     "output_type": "execute_result"
    }
   ],
   "source": [
    "x = strike_price4\n",
    "y = time_to_maturity4\n",
    "z = implied_vol4\n",
    "\n",
    "trace1 = go.Scatter3d(\n",
    "    x=x,\n",
    "    y=y,\n",
    "    z=z,\n",
    "    mode='markers',\n",
    "    marker=dict(size=8,color=z,\n",
    "        colorscale='Viridis', \n",
    "        opacity=0.8))\n",
    "\n",
    "data = [trace1]\n",
    "layout = go.Layout(\n",
    "    title='Google 3D Visualization',\n",
    "    xaxis=dict(title='Strike Price',titlefont=dict(size=18,color='#7f7f7f')),\n",
    "    yaxis=dict(title='Time to Maturity',titlefont=dict(size=18,color='#7f7f7f')),\n",
    "    margin=dict(l=0,r=0,b=0,t=0))\n",
    "\n",
    "fig = go.Figure(data=data,layout=layout)\n",
    "py.iplot(fig, filename='3d-scatter-colorscale')"
   ]
  },
  {
   "cell_type": "code",
   "execution_count": 44,
   "metadata": {},
   "outputs": [
    {
     "data": {
      "text/html": [
       "<div>\n",
       "<style scoped>\n",
       "    .dataframe tbody tr th:only-of-type {\n",
       "        vertical-align: middle;\n",
       "    }\n",
       "\n",
       "    .dataframe tbody tr th {\n",
       "        vertical-align: top;\n",
       "    }\n",
       "\n",
       "    .dataframe thead th {\n",
       "        text-align: right;\n",
       "    }\n",
       "</style>\n",
       "<table border=\"1\" class=\"dataframe\">\n",
       "  <thead>\n",
       "    <tr style=\"text-align: right;\">\n",
       "      <th></th>\n",
       "      <th>Unnamed: 0</th>\n",
       "      <th>ExpDate</th>\n",
       "      <th>StrikePrice</th>\n",
       "      <th>Ticker</th>\n",
       "      <th>Type</th>\n",
       "      <th>Last</th>\n",
       "      <th>Chg</th>\n",
       "      <th>Bid</th>\n",
       "      <th>Ask</th>\n",
       "      <th>Vol</th>\n",
       "      <th>...</th>\n",
       "      <th>Delta</th>\n",
       "      <th>Gamma</th>\n",
       "      <th>Rho</th>\n",
       "      <th>Theta</th>\n",
       "      <th>Vega</th>\n",
       "      <th>implied volatility</th>\n",
       "      <th>currentDate</th>\n",
       "      <th>Implied volatility</th>\n",
       "      <th>Underlaying asset price</th>\n",
       "      <th>Expiration time</th>\n",
       "    </tr>\n",
       "  </thead>\n",
       "  <tbody>\n",
       "    <tr>\n",
       "      <th>0</th>\n",
       "      <td>0</td>\n",
       "      <td>2017-03-17</td>\n",
       "      <td>22.5</td>\n",
       "      <td>ARR</td>\n",
       "      <td>Put</td>\n",
       "      <td>0.95</td>\n",
       "      <td>-0.35</td>\n",
       "      <td>0.65</td>\n",
       "      <td>1.25</td>\n",
       "      <td>1.0</td>\n",
       "      <td>...</td>\n",
       "      <td>-0.69794</td>\n",
       "      <td>0.28368</td>\n",
       "      <td>-0.00832</td>\n",
       "      <td>-0.00832</td>\n",
       "      <td>0.02372</td>\n",
       "      <td>0.27590</td>\n",
       "      <td>2/17/17</td>\n",
       "      <td>0.27590</td>\n",
       "      <td>21.709999</td>\n",
       "      <td>0.076660</td>\n",
       "    </tr>\n",
       "    <tr>\n",
       "      <th>1</th>\n",
       "      <td>1</td>\n",
       "      <td>2017-04-21</td>\n",
       "      <td>22.0</td>\n",
       "      <td>ARR</td>\n",
       "      <td>Call</td>\n",
       "      <td>0.30</td>\n",
       "      <td>-0.20</td>\n",
       "      <td>0.10</td>\n",
       "      <td>0.40</td>\n",
       "      <td>40.0</td>\n",
       "      <td>...</td>\n",
       "      <td>0.45441</td>\n",
       "      <td>0.55431</td>\n",
       "      <td>0.01692</td>\n",
       "      <td>-0.00408</td>\n",
       "      <td>0.03730</td>\n",
       "      <td>0.10719</td>\n",
       "      <td>2/17/17</td>\n",
       "      <td>0.10719</td>\n",
       "      <td>21.709999</td>\n",
       "      <td>0.172485</td>\n",
       "    </tr>\n",
       "    <tr>\n",
       "      <th>2</th>\n",
       "      <td>2</td>\n",
       "      <td>2017-04-21</td>\n",
       "      <td>20.0</td>\n",
       "      <td>ARR</td>\n",
       "      <td>Put</td>\n",
       "      <td>0.15</td>\n",
       "      <td>-0.05</td>\n",
       "      <td>0.05</td>\n",
       "      <td>0.20</td>\n",
       "      <td>3.0</td>\n",
       "      <td>...</td>\n",
       "      <td>-0.12236</td>\n",
       "      <td>0.11984</td>\n",
       "      <td>-0.00430</td>\n",
       "      <td>-0.00275</td>\n",
       "      <td>0.01999</td>\n",
       "      <td>0.25595</td>\n",
       "      <td>2/17/17</td>\n",
       "      <td>0.25595</td>\n",
       "      <td>21.709999</td>\n",
       "      <td>0.172485</td>\n",
       "    </tr>\n",
       "    <tr>\n",
       "      <th>3</th>\n",
       "      <td>3</td>\n",
       "      <td>2017-04-21</td>\n",
       "      <td>22.0</td>\n",
       "      <td>ARR</td>\n",
       "      <td>Put</td>\n",
       "      <td>0.83</td>\n",
       "      <td>-0.02</td>\n",
       "      <td>0.65</td>\n",
       "      <td>1.00</td>\n",
       "      <td>1.0</td>\n",
       "      <td>...</td>\n",
       "      <td>-0.52709</td>\n",
       "      <td>0.26444</td>\n",
       "      <td>-0.01502</td>\n",
       "      <td>-0.00457</td>\n",
       "      <td>0.03551</td>\n",
       "      <td>0.21858</td>\n",
       "      <td>2/17/17</td>\n",
       "      <td>0.21858</td>\n",
       "      <td>21.709999</td>\n",
       "      <td>0.172485</td>\n",
       "    </tr>\n",
       "    <tr>\n",
       "      <th>4</th>\n",
       "      <td>4</td>\n",
       "      <td>2017-04-21</td>\n",
       "      <td>23.0</td>\n",
       "      <td>ARR</td>\n",
       "      <td>Put</td>\n",
       "      <td>1.55</td>\n",
       "      <td>0.05</td>\n",
       "      <td>1.40</td>\n",
       "      <td>1.85</td>\n",
       "      <td>2.0</td>\n",
       "      <td>...</td>\n",
       "      <td>-0.68386</td>\n",
       "      <td>0.17777</td>\n",
       "      <td>-0.01760</td>\n",
       "      <td>-0.00590</td>\n",
       "      <td>0.03575</td>\n",
       "      <td>0.33344</td>\n",
       "      <td>2/17/17</td>\n",
       "      <td>0.33344</td>\n",
       "      <td>21.709999</td>\n",
       "      <td>0.172485</td>\n",
       "    </tr>\n",
       "  </tbody>\n",
       "</table>\n",
       "<p>5 rows × 21 columns</p>\n",
       "</div>"
      ],
      "text/plain": [
       "   Unnamed: 0     ExpDate  StrikePrice Ticker  Type  Last   Chg   Bid   Ask  \\\n",
       "0           0  2017-03-17         22.5    ARR   Put  0.95 -0.35  0.65  1.25   \n",
       "1           1  2017-04-21         22.0    ARR  Call  0.30 -0.20  0.10  0.40   \n",
       "2           2  2017-04-21         20.0    ARR   Put  0.15 -0.05  0.05  0.20   \n",
       "3           3  2017-04-21         22.0    ARR   Put  0.83 -0.02  0.65  1.00   \n",
       "4           4  2017-04-21         23.0    ARR   Put  1.55  0.05  1.40  1.85   \n",
       "\n",
       "    Vol       ...           Delta    Gamma      Rho    Theta     Vega  \\\n",
       "0   1.0       ...        -0.69794  0.28368 -0.00832 -0.00832  0.02372   \n",
       "1  40.0       ...         0.45441  0.55431  0.01692 -0.00408  0.03730   \n",
       "2   3.0       ...        -0.12236  0.11984 -0.00430 -0.00275  0.01999   \n",
       "3   1.0       ...        -0.52709  0.26444 -0.01502 -0.00457  0.03551   \n",
       "4   2.0       ...        -0.68386  0.17777 -0.01760 -0.00590  0.03575   \n",
       "\n",
       "   implied volatility  currentDate Implied volatility  \\\n",
       "0             0.27590      2/17/17            0.27590   \n",
       "1             0.10719      2/17/17            0.10719   \n",
       "2             0.25595      2/17/17            0.25595   \n",
       "3             0.21858      2/17/17            0.21858   \n",
       "4             0.33344      2/17/17            0.33344   \n",
       "\n",
       "   Underlaying asset price  Expiration time  \n",
       "0                21.709999         0.076660  \n",
       "1                21.709999         0.172485  \n",
       "2                21.709999         0.172485  \n",
       "3                21.709999         0.172485  \n",
       "4                21.709999         0.172485  \n",
       "\n",
       "[5 rows x 21 columns]"
      ]
     },
     "execution_count": 44,
     "metadata": {},
     "output_type": "execute_result"
    }
   ],
   "source": [
    "Option3.head()"
   ]
  },
  {
   "cell_type": "code",
   "execution_count": 45,
   "metadata": {},
   "outputs": [],
   "source": [
    "#Bid-Ask\n",
    "Option3['B-A Difference'] = Option3['Ask'] - Option3['Bid']"
   ]
  },
  {
   "cell_type": "code",
   "execution_count": 46,
   "metadata": {},
   "outputs": [
    {
     "data": {
      "image/png": "[encoded data removed]",
      "text/plain": [
       "<Figure size 1080x576 with 1 Axes>"
      ]
     },
     "metadata": {},
     "output_type": "display_data"
    }
   ],
   "source": [
    "fig = plt.figure(figsize=(15,8)).gca(projection='3d')  \n",
    "fig.scatter(Option3['Ask'],Option3['Bid'],Option3['B-A Difference'], c='g')\n",
    "\n",
    "fig.set_xlabel('Ask')\n",
    "fig.set_ylabel('Bid')\n",
    "fig.set_zlabel('B-A Difference')\n",
    "\n",
    "plt.show()"
   ]
  },
  {
   "cell_type": "markdown",
   "metadata": {},
   "source": [
    "#### 4.Visualize and generate eps/tiﬀ ﬁles"
   ]
  },
  {
   "cell_type": "code",
   "execution_count": 47,
   "metadata": {},
   "outputs": [
    {
     "data": {
      "text/html": [
       "<iframe id=\"igraph\" scrolling=\"no\" style=\"border:none;\" seamless=\"seamless\" src=\"https://plot.ly/~Jessicazzh/2.embed\" height=\"525px\" width=\"100%\"></iframe>"
      ],
      "text/plain": [
       "<plotly.tools.PlotlyDisplay object>"
      ]
     },
     "execution_count": 47,
     "metadata": {},
     "output_type": "execute_result"
    }
   ],
   "source": [
    "x1 = Option3[Option3.Type == 'Call']['Implied volatility']\n",
    "x2 = Option3[Option3.Type == 'Put']['Implied volatility']\n",
    "\n",
    "hist_data = [x1, x2]\n",
    "group_labels = ['Call Option', 'Put Option']\n",
    "fig = ff.create_distplot(hist_data, group_labels, bin_size=.2)\n",
    "py.iplot(fig, filename='Distplot with Multiple Datasets')"
   ]
  },
  {
   "cell_type": "code",
   "execution_count": 48,
   "metadata": {},
   "outputs": [
    {
     "name": "stderr",
     "output_type": "stream",
     "text": [
      "C:\\anaconda\\lib\\site-packages\\matplotlib\\axes\\_axes.py:6462: UserWarning:\n",
      "\n",
      "The 'normed' kwarg is deprecated, and has been replaced by the 'density' kwarg.\n",
      "\n"
     ]
    },
    {
     "data": {
      "text/plain": [
       "<matplotlib.axes._subplots.AxesSubplot at 0x17a43afd0b8>"
      ]
     },
     "execution_count": 48,
     "metadata": {},
     "output_type": "execute_result"
    },
    {
     "data": {
      "image/png": "[encoded data removed]",
      "text/plain": [
       "<Figure size 1440x504 with 1 Axes>"
      ]
     },
     "metadata": {},
     "output_type": "display_data"
    }
   ],
   "source": [
    "fig = plt.figure(figsize=(20,7))\n",
    "plt.title('Option 2017 Time to Maturity Distribution')\n",
    "sns.distplot(Option3['Expiration time'])"
   ]
  },
  {
   "cell_type": "code",
   "execution_count": 49,
   "metadata": {},
   "outputs": [
    {
     "data": {
      "text/html": [
       "<iframe id=\"igraph\" scrolling=\"no\" style=\"border:none;\" seamless=\"seamless\" src=\"https://plot.ly/~Jessicazzh/4.embed\" height=\"600px\" width=\"600px\"></iframe>"
      ],
      "text/plain": [
       "<plotly.tools.PlotlyDisplay object>"
      ]
     },
     "execution_count": 49,
     "metadata": {},
     "output_type": "execute_result"
    }
   ],
   "source": [
    "x = Option3['Underlaying asset price']\n",
    "y = Option3['Last']\n",
    "\n",
    "colorscale = ['#7A4579', '#D56073', 'rgb(236,158,105)', (1, 1, 0.2), (0.98,0.98,0.98)]\n",
    "\n",
    "fig = ff.create_2d_density(\n",
    "    x, y, colorscale=colorscale,\n",
    "    hist_color='rgb(255, 237, 222)', point_size=3\n",
    ")\n",
    "\n",
    "py.iplot(fig, filename='histogram_subplots')"
   ]
  }
 ],
 "metadata": {
  "kernelspec": {
   "display_name": "Python 3",
   "language": "python",
   "name": "python3"
  },
  "language_info": {
   "codemirror_mode": {
    "name": "ipython",
    "version": 3
   },
   "file_extension": ".py",
   "mimetype": "text/x-python",
   "name": "python",
   "nbconvert_exporter": "python",
   "pygments_lexer": "ipython3",
   "version": "3.6.5"
  }
 },
 "nbformat": 4,
 "nbformat_minor": 2
}
